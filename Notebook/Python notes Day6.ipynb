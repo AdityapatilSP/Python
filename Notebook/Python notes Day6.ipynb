{
 "cells": [
  {
   "cell_type": "markdown",
   "id": "00170df9-07fa-4a7c-a0c4-1fb0f9581305",
   "metadata": {},
   "source": [
    "# Python Day 6"
   ]
  },
  {
   "cell_type": "markdown",
   "id": "28a63268-00cc-47dc-9096-b80d412471cd",
   "metadata": {},
   "source": [
    "In today's session, we will learn about Python functions and another type of loop, and at the end, we will learn this concept with the help of a game \n",
    "so lets begin today's session "
   ]
  },
  {
   "cell_type": "markdown",
   "id": "abb7c60c-99f3-4b5d-ad7c-230c0f0ef102",
   "metadata": {},
   "source": [
    "#### Functions"
   ]
  },
  {
   "cell_type": "markdown",
   "id": "70ce0744-eb11-4239-8835-6a4e215eb97b",
   "metadata": {},
   "source": [
    "As we all know basic python functions like __print()__ , __len()__ , __input()__ and many more but ever imagined how they are created or how thier logic works python is just not a simple language its a high level programming langauage which has a lot of backend logic thats why it is simple and clear in the front,"
   ]
  },
  {
   "cell_type": "markdown",
   "id": "2d130b45-bc2e-4105-bb2e-d09778477906",
   "metadata": {},
   "source": [
    "Well lets see how a function is created below "
   ]
  },
  {
   "cell_type": "code",
   "execution_count": 1,
   "id": "33b5b2a9-a1bd-4dbb-9bd8-8eb1f21b3f0b",
   "metadata": {},
   "outputs": [
    {
     "name": "stdout",
     "output_type": "stream",
     "text": [
      "This is a function block!\n"
     ]
    }
   ],
   "source": [
    "def myfunction():\n",
    "    print(\"This is a function block!\")\n",
    "\n",
    "myfunction()"
   ]
  },
  {
   "cell_type": "markdown",
   "id": "61c185eb-079d-455e-9c68-8e75b1d86c4f",
   "metadata": {},
   "source": [
    "we use the __def__ keyword to declare or define a function, so the syntax goes like __def functionname()__ and write any block of code inside the function which provides a logic to the function and after creating the function we call it below by just writing its name "
   ]
  },
  {
   "cell_type": "markdown",
   "id": "89e1e165-5f76-4e21-b770-dc94b5eeec1a",
   "metadata": {},
   "source": [
    "Lets see a simple function to help you understand how functions actually works with proper logic "
   ]
  },
  {
   "cell_type": "code",
   "execution_count": 6,
   "id": "57c56ffa-24a7-4604-b4fd-44f0094a7b8f",
   "metadata": {},
   "outputs": [
    {
     "name": "stdin",
     "output_type": "stream",
     "text": [
      "Enter your first No 50\n",
      "Enter your second No 20\n"
     ]
    },
    {
     "name": "stdout",
     "output_type": "stream",
     "text": [
      "The sum of both the no is 70\n"
     ]
    }
   ],
   "source": [
    "def Addition():\n",
    "    A = int(input(\"Enter your first No\"))\n",
    "    B = int(input(\"Enter your second No\"))\n",
    "    C = A + B\n",
    "    print(f\"The sum of both the no is {C}\" )\n",
    "\n",
    "Addition()"
   ]
  },
  {
   "cell_type": "markdown",
   "id": "00d77a22-234a-4fce-95ac-c832b822cacd",
   "metadata": {},
   "source": [
    "Well, now you get a little idea about the function, but can I use this function more than twice in my code? Yes, a function is a reusable block of code created to reduce the number of lines of code and improve code readability. The whole purpose of creating a function is to hide the backend logic and create a simple keyword"
   ]
  },
  {
   "cell_type": "markdown",
   "id": "7fe449f9-178c-4ec5-8bd5-ebf7031a2bfe",
   "metadata": {},
   "source": [
    "but how about we take this one step ahead and see if we can give any input to the function well, let me show you how to use a function properly "
   ]
  },
  {
   "cell_type": "code",
   "execution_count": 7,
   "id": "28277b97-7bbe-458c-9645-5dd08b9fd24e",
   "metadata": {},
   "outputs": [
    {
     "name": "stdout",
     "output_type": "stream",
     "text": [
      "The sum of both the no is 139\n"
     ]
    }
   ],
   "source": [
    "def Addition(A,B):\n",
    "    C = A + B\n",
    "    print(f\"The sum of both the no is {C}\" )\n",
    "\n",
    "Addition(50,89)"
   ]
  },
  {
   "cell_type": "markdown",
   "id": "e31739e1-3307-470c-a476-3717fea2b4ac",
   "metadata": {},
   "source": [
    "Well, I just created an __Addition()__ function inside Python. It is a user-created function; it was not present in Python. Surely, you can add two numbers in Python, but how did it take any input? The function works because inside the parentheses __()__ we gave it two parameters, which act as an input and when calling the function i gave it 50 , 89 values which is called as arguements "
   ]
  },
  {
   "cell_type": "markdown",
   "id": "fa893ff6-cac2-4794-b14b-d858be7a4e1a",
   "metadata": {},
   "source": [
    "well lets create a calculator which works on function this will help you understand alot about parameters and arguements in a function "
   ]
  },
  {
   "cell_type": "code",
   "execution_count": 10,
   "id": "dd87fa8d-7aab-49ec-bb2a-44178c80fa50",
   "metadata": {},
   "outputs": [
    {
     "name": "stdout",
     "output_type": "stream",
     "text": [
      "Select operation:\n",
      "1. Add\n",
      "2. Subtract\n",
      "3. Multiply\n",
      "4. Divide\n"
     ]
    },
    {
     "name": "stdin",
     "output_type": "stream",
     "text": [
      "Enter choice (1/2/3/4):  3\n",
      "Enter first number:  10\n",
      "Enter second number:  20\n"
     ]
    },
    {
     "name": "stdout",
     "output_type": "stream",
     "text": [
      "Result: 200.0\n"
     ]
    }
   ],
   "source": [
    "def Addition(A, B):\n",
    "    print(\"Result:\", A + B)\n",
    "\n",
    "def Multiplication(A, B):\n",
    "    print(\"Result:\", A * B)\n",
    "\n",
    "def Subtraction(A, B):\n",
    "    print(\"Result:\", A - B)\n",
    "\n",
    "def Division(A, B):\n",
    "    if B != 0:\n",
    "        print(\"Result:\", A / B)\n",
    "    else:\n",
    "        print(\"Error! Division by zero.\")\n",
    "\n",
    "print(\"Select operation:\")\n",
    "print(\"1. Add\")\n",
    "print(\"2. Subtract\")\n",
    "print(\"3. Multiply\")\n",
    "print(\"4. Divide\")\n",
    "\n",
    "choice = input(\"Enter choice (1/2/3/4): \")\n",
    "\n",
    "A = float(input(\"Enter first number: \"))\n",
    "B = float(input(\"Enter second number: \"))\n",
    "\n",
    "if choice == '1':\n",
    "    Addition(A, B)\n",
    "elif choice == '2':\n",
    "    Subtraction(A, B)\n",
    "elif choice == '3':\n",
    "    Multiplication(A, B)\n",
    "elif choice == '4':\n",
    "    Division(A, B)\n",
    "else:\n",
    "    print(\"Invalid choice\")\n"
   ]
  },
  {
   "cell_type": "markdown",
   "id": "4ef9db48-e5a1-44ca-9ace-c98c0b49e129",
   "metadata": {},
   "source": [
    "I know right now this seems a lot for you, but try to understand the code part by part let me help you with that \n",
    "- __Functions__:-\n",
    "    1. So we create 4 functions for basic calculations and store the result in C\n",
    "    2. We gave all functions their parameters __A__ and __B__ which acts as a input\n",
    "    3. Then we call each function using if/elif/else statements, as we don't want all functions to be called at once\n",
    "- __UI ( User Interface)__:-\n",
    "    1. So we created a basic UI saying select operations and gave the user a choice by input, and asked for the first and second numbers\n",
    "    2. Well, UI is created in a program for a neat look and design, but we have used to for a better understanding of the program\n",
    "- __Conditional Statements__:-\n",
    "    1. You might be familiar with this concept, as it is well used for calling functions based on the user's provides\n",
    "    2. this prevents from calling or triggering all functions at once "
   ]
  },
  {
   "cell_type": "markdown",
   "id": "f01f8ced-2371-46e9-b259-e41d7cbe7f16",
   "metadata": {},
   "source": [
    "### While Loop"
   ]
  },
  {
   "cell_type": "markdown",
   "id": "9033b8a7-ed77-47ff-b34a-f27623592cb1",
   "metadata": {},
   "source": [
    "A while loop in Python is a control flow statement that repeatedly executes a block of code as long as a specified condition remains True"
   ]
  },
  {
   "cell_type": "markdown",
   "id": "b9f6e5c5-922a-44b3-92a8-35a54a76b546",
   "metadata": {},
   "source": [
    "Well, you must be thinking that a for loop can do anything in a loop and any possible no of iterations, so why does the while loop exist? Well, it's true that a for loop can almost do anything in a loop, but a while loop can do anything until the given condition runs out, and we use a while loop where we go not know when the condition is going to runout well lets see with an example below"
   ]
  },
  {
   "cell_type": "code",
   "execution_count": 1,
   "id": "6530c8c4-b0d6-41e1-9715-9cdf2a13a167",
   "metadata": {},
   "outputs": [
    {
     "name": "stdout",
     "output_type": "stream",
     "text": [
      "Count is: 0\n",
      "Count is: 1\n",
      "Count is: 2\n",
      "Count is: 3\n",
      "Count is: 4\n",
      "Loop finished, count is no longer less than 5.\n"
     ]
    }
   ],
   "source": [
    "count = 0\n",
    "while count < 5:\n",
    "    print(f\"Count is: {count}\")\n",
    "    count += 1\n",
    "else:\n",
    "    print(\"Loop finished, count is no longer less than 5.\")"
   ]
  },
  {
   "cell_type": "markdown",
   "id": "901938c9-478d-493d-8498-74e9629e9a87",
   "metadata": {},
   "source": [
    "As you saw, we gave the while loop a specific condition that if the count goes above 4 the loop is finished, and it exactly stopped at 4, but hey for loop can also do that if you provide a specific range right how does while loop make it different let me explain you using for and while both to tell you the actual difference "
   ]
  },
  {
   "cell_type": "code",
   "execution_count": 2,
   "id": "988594ad-cca8-49b8-91e1-ca48f5da77fb",
   "metadata": {},
   "outputs": [
    {
     "name": "stdout",
     "output_type": "stream",
     "text": [
      "Count is: 0\n",
      "Count is: 1\n",
      "Count is: 2\n",
      "Count is: 3\n",
      "Count is: 4\n",
      "Loop finished, count is no longer less than 5.\n"
     ]
    }
   ],
   "source": [
    "for count in range(5):\n",
    "    print(f\"Count is: {count}\")\n",
    "else:\n",
    "    print(\"Loop finished, count is no longer less than 5.\")\n"
   ]
  },
  {
   "cell_type": "markdown",
   "id": "2cdbe897-a438-40dc-804e-337daa4847c6",
   "metadata": {},
   "source": [
    "Both would give the same output.\n",
    "\n",
    "So why do we even need a while loop?"
   ]
  },
  {
   "cell_type": "markdown",
   "id": "79e8ca95-77d0-4039-bb04-28bc2d545b5c",
   "metadata": {},
   "source": [
    "Key Difference Between __while__ and __for__ Loops\n",
    "\n",
    "- __for loop__ → Used when you already know how many times you want to loop (fixed range or iterable).\n",
    "\n",
    "- __while loop__ → Used when you don’t know in advance how many times you’ll loop — you just keep going until a condition becomes false."
   ]
  },
  {
   "cell_type": "markdown",
   "id": "6aee1541-5a42-4a54-b2ab-98140d9b061e",
   "metadata": {},
   "source": [
    "##### Example Where while Wins\n",
    "\n",
    "Let’s say you don’t know how many times it’ll take for the user to guess a secret number:"
   ]
  },
  {
   "cell_type": "code",
   "execution_count": 3,
   "id": "022b311c-2142-4ef2-a10c-f02c0d138bb4",
   "metadata": {},
   "outputs": [
    {
     "name": "stdin",
     "output_type": "stream",
     "text": [
      "Guess the number:  7\n"
     ]
    },
    {
     "name": "stdout",
     "output_type": "stream",
     "text": [
      "🎉 You guessed it right!\n"
     ]
    }
   ],
   "source": [
    "secret_number = 7\n",
    "guess = None\n",
    "\n",
    "while guess != secret_number:\n",
    "    guess = int(input(\"Guess the number: \"))\n",
    "    if guess != secret_number:\n",
    "        print(\"Wrong! Try again.\")\n",
    "\n",
    "print(\"🎉 You guessed it right!\")\n"
   ]
  },
  {
   "cell_type": "markdown",
   "id": "00f68408-9a45-4b2c-9f1f-5c82a3f80ffb",
   "metadata": {},
   "source": [
    "- You can’t easily use for here, because you don’t know how many guesses it will take.\n",
    "\n",
    "- The loop stops whenever the correct guess is made — could be 1 try, could be 100."
   ]
  },
  {
   "cell_type": "markdown",
   "id": "871a7f35-d6a8-4069-8359-e873573728cd",
   "metadata": {},
   "source": [
    "#### Note:-\n",
    "\n",
    "- Use __for__ when the loop count is predetermined (like going through a list, range, or file lines).\n",
    "\n",
    "- Use __while__ when the loop count is unknown and depends on a condition that changes at runtime."
   ]
  },
  {
   "cell_type": "markdown",
   "id": "06c8cc45-fe34-4c80-86d2-652338ef1773",
   "metadata": {},
   "source": [
    "Well, now you would be clear about the key difference between while and for loops, so now let's make an ATM pin verification using while loops. Do you have any idea for this try it out yourself and then refer mine "
   ]
  },
  {
   "cell_type": "code",
   "execution_count": 6,
   "id": "4b7b4380-b8a7-4ef6-af48-669ff2830210",
   "metadata": {},
   "outputs": [
    {
     "name": "stdin",
     "output_type": "stream",
     "text": [
      "Please enter your ATM pin no :-  2121\n"
     ]
    },
    {
     "name": "stdout",
     "output_type": "stream",
     "text": [
      " Entered the wrong pin attempts remaining 2 \n"
     ]
    },
    {
     "name": "stdin",
     "output_type": "stream",
     "text": [
      "Please enter your ATM pin no :-  2222\n"
     ]
    },
    {
     "name": "stdout",
     "output_type": "stream",
     "text": [
      " Entered the wrong pin attempts remaining 1 \n"
     ]
    },
    {
     "name": "stdin",
     "output_type": "stream",
     "text": [
      "Please enter your ATM pin no :-  9922\n"
     ]
    },
    {
     "name": "stdout",
     "output_type": "stream",
     "text": [
      "You have entered the correct pin \n"
     ]
    }
   ],
   "source": [
    "correct_pin = \"9922\"\n",
    "attempts = 3\n",
    "\n",
    "while attempts > 0 :\n",
    "    guess = input(\"Please enter your ATM pin no :- \")\n",
    "    if guess == correct_pin:\n",
    "        print(\"You have entered the correct pin \")\n",
    "        break\n",
    "    else:\n",
    "        attempts -= 1\n",
    "        print(f\" Entered the wrong pin attempts remaining {attempts} \")\n",
    "\n",
    "if attempts == 0:\n",
    "    print(\"Too many wrong Attempts ! card is blocked temporarily \")"
   ]
  },
  {
   "cell_type": "markdown",
   "id": "bacbfe8c-4856-4d50-be2c-5b6dc3655e83",
   "metadata": {},
   "source": [
    "Well, now you must be clear about functions and while loops, but remember these are just basics, we will practice more and use them in advanced projects so for now master the basics see ya in the next session :)"
   ]
  },
  {
   "cell_type": "code",
   "execution_count": null,
   "id": "8a8c6784-b99f-4d0a-9bed-ee5dc7c43df4",
   "metadata": {},
   "outputs": [],
   "source": []
  }
 ],
 "metadata": {
  "kernelspec": {
   "display_name": "Python [conda env:base] *",
   "language": "python",
   "name": "conda-base-py"
  },
  "language_info": {
   "codemirror_mode": {
    "name": "ipython",
    "version": 3
   },
   "file_extension": ".py",
   "mimetype": "text/x-python",
   "name": "python",
   "nbconvert_exporter": "python",
   "pygments_lexer": "ipython3",
   "version": "3.12.7"
  }
 },
 "nbformat": 4,
 "nbformat_minor": 5
}
