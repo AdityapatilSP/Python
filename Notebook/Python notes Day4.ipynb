{
 "cells": [
  {
   "cell_type": "markdown",
   "id": "f8d8b287-4c6d-4802-8004-dcf4e6fd4de2",
   "metadata": {},
   "source": [
    "# Python Day 4"
   ]
  },
  {
   "cell_type": "markdown",
   "id": "246728cb-08f0-4887-afac-0d9da60be2cf",
   "metadata": {},
   "source": [
    "In this session, we will be learning Randomisation and Python lists.\n",
    "Well, we see randomness in real life, for example, rolling a dice, where the outputs are completely random, or let's say tossing a coin\n",
    "All of these events produce randomness, but what about a computer? As we know, a computer is precise, so how do we get it to have this randomness\n",
    "how can we get random in our code does python have a solution for that lets see below what acutally randomisation means"
   ]
  },
  {
   "cell_type": "markdown",
   "id": "f39acb96-f03b-45df-a628-49f421fd36bd",
   "metadata": {},
   "source": [
    "#### Randomisation"
   ]
  },
  {
   "cell_type": "markdown",
   "id": "26201dfc-9aff-45d9-ae7e-58e59a864aab",
   "metadata": {},
   "source": [
    "To use randomness in our code, we need to import a library called random, which will allow various functions to aid us in bringing randomness logic to our code"
   ]
  },
  {
   "cell_type": "markdown",
   "id": "c58f3feb-a62b-4a0a-9ea6-059f7310360f",
   "metadata": {},
   "source": [
    "##### Note:- A library in Python is a collection of pre-written code modules and functions that provide specific functionalities, designed to be reused across different programs. They serve as rich repositories of tools, allowing developers to avoid writing the same code repeatedly for common tasks."
   ]
  },
  {
   "cell_type": "code",
   "execution_count": 2,
   "id": "e7d4516a-5b6f-4180-a117-40a595bc5fa8",
   "metadata": {},
   "outputs": [
    {
     "name": "stdout",
     "output_type": "stream",
     "text": [
      "5\n"
     ]
    }
   ],
   "source": [
    "import random\n",
    "random_integer = random.randint(1,10)\n",
    "print(random_integer)"
   ]
  },
  {
   "cell_type": "markdown",
   "id": "af6a3fb3-7717-4220-b415-13b58efe029d",
   "metadata": {},
   "source": [
    "As you saw in the code, I have imported a library named random, which provides all the functions that support random logic \n",
    "- The function used in the code is __random. randint(a,b).__ This function gets me a random integer between the specified range of __a and b__\n",
    "- we will see various random functions and their applications and you must have got some idea of what we will be learning today."
   ]
  },
  {
   "cell_type": "markdown",
   "id": "9757c0a3-985a-4057-8f32-36a7281b7d77",
   "metadata": {},
   "source": [
    "##### Note :- Everytime you run a code with random functions each time you will get different value as the selection is random try it out yourself"
   ]
  },
  {
   "cell_type": "markdown",
   "id": "d52cd08a-17cb-488b-abc2-fb1903efc8d8",
   "metadata": {},
   "source": [
    "As we saw, we can generate random integers, but how about random floating numbers? Is there anything we can do to generate numbers like 0.9873, 0.3244\n",
    "we lets use another function below"
   ]
  },
  {
   "cell_type": "code",
   "execution_count": 3,
   "id": "450837a3-e5c4-43c7-8888-f9fe3a88c9bf",
   "metadata": {},
   "outputs": [
    {
     "name": "stdout",
     "output_type": "stream",
     "text": [
      "0.4147863197863303\n"
     ]
    }
   ],
   "source": [
    "import random\n",
    "random_number_0_to_1 = random.random()\n",
    "print(random_number_0_to_1)"
   ]
  },
  {
   "cell_type": "markdown",
   "id": "0c33c987-1121-47cb-b624-6fcc8d6ba6e4",
   "metadata": {},
   "source": [
    "In this code, I used __random.random()__ function which returns the next random floating point number in the range of __0.0 <= X < 1__\n",
    "That means my value cannot go beyond 1, that's what it says, right? What if we can get random floating numbers like 99.87,9.234 is it possible even if the range is limited to 1 we thats what we programmers do lets see below how can we solve this "
   ]
  },
  {
   "cell_type": "code",
   "execution_count": 4,
   "id": "afcb52ea-ebff-4122-a8fb-e7de35d46087",
   "metadata": {},
   "outputs": [
    {
     "name": "stdout",
     "output_type": "stream",
     "text": [
      "4.651309234767481\n"
     ]
    }
   ],
   "source": [
    "import random\n",
    "random_number_0_to_1 = random.random() * 10\n",
    "print(random_number_0_to_1)"
   ]
  },
  {
   "cell_type": "markdown",
   "id": "5350e94c-dc7b-4e7d-bda7-d28e696dc0e7",
   "metadata": {},
   "source": [
    "Now you get what I was talking about. We can get up to any number(digits) of random floating numbers if we just multiply it by 10,100,1000, pretty cool trick to bend the laws aint it :)"
   ]
  },
  {
   "cell_type": "markdown",
   "id": "c366c105-d8ab-46be-8bb4-874006fe2859",
   "metadata": {},
   "source": [
    "To see more about random functions, let's create a simple flip a coin where the output must be random, displaying either heads or tails \n",
    "Try to do it yourself first then refer mine below"
   ]
  },
  {
   "cell_type": "code",
   "execution_count": 6,
   "id": "f7250c3a-8622-41ba-a652-977fd51201da",
   "metadata": {},
   "outputs": [
    {
     "name": "stdout",
     "output_type": "stream",
     "text": [
      "Heads\n"
     ]
    }
   ],
   "source": [
    "import random\n",
    "Output = random.randint(0,1)\n",
    "if Output == 1:\n",
    "    print(\"Tails\")\n",
    "else:\n",
    "    print(\"Heads\")"
   ]
  },
  {
   "cell_type": "markdown",
   "id": "685202d9-e7f9-45df-ae19-b5cdda3e388b",
   "metadata": {},
   "source": [
    "well now you understand actually how randomness work and how can we apply it our code's logic"
   ]
  },
  {
   "cell_type": "markdown",
   "id": "c4fc785d-1ea8-412e-a6d4-e1396521a90b",
   "metadata": {},
   "source": [
    "#### Python Lists "
   ]
  },
  {
   "cell_type": "markdown",
   "id": "28bc03d6-e9b3-4b1f-af88-513e08ad604d",
   "metadata": {},
   "source": [
    "In normal day-to-day life, we use lists for task management, shopping, planning, and organization, etc, but what does Python require lists for?\n",
    "well List is a Data structure used to store data, but hey, we already got variables to store data, right? But that's just one piece of data, right?\n",
    "be it a number or string but sometimes you might wanna store grouped pieces of data , data that has some sort of connection with each other "
   ]
  },
  {
   "cell_type": "markdown",
   "id": "d5904d00-1df5-4e0e-8742-471a2b29eecb",
   "metadata": {},
   "source": [
    "For example, if you want to store all the states or cities in India, you can't just simply create variables for each right; you need some grouping that allows connection among the data. That's where lists come into play \n",
    "Lets understand lists with an basic example below"
   ]
  },
  {
   "cell_type": "code",
   "execution_count": 7,
   "id": "8211bcd1-a5bc-42f3-bd5e-8e340dc69425",
   "metadata": {},
   "outputs": [
    {
     "name": "stdout",
     "output_type": "stream",
     "text": [
      "['Aditya', 'Tejas', 'Safir', 'Asad']\n"
     ]
    }
   ],
   "source": [
    "A = ['Aditya','Tejas','Safir','Asad']\n",
    "print(A)"
   ]
  },
  {
   "cell_type": "markdown",
   "id": "b4cf94cf-ceac-4bc5-82b3-549526a15dea",
   "metadata": {},
   "source": [
    "So, as you saw, I don't need to create 4 different variables to store these 4 names. I can store them in a single list\n",
    ", but what if I only want a single piece of data or only some selective data without accessing other data? Can I do that?\n",
    "well remember how i taught you about indexing and indices well lists also follow the sample principle let me show you below"
   ]
  },
  {
   "cell_type": "code",
   "execution_count": 11,
   "id": "8bf2b585-fc56-42e2-a45f-2ebbe353f864",
   "metadata": {},
   "outputs": [
    {
     "name": "stdout",
     "output_type": "stream",
     "text": [
      "Tejas\n"
     ]
    }
   ],
   "source": [
    "A = ['Aditya','Tejas','Safir','Asad']\n",
    "print(A[1])"
   ]
  },
  {
   "cell_type": "markdown",
   "id": "eabd1dff-c96f-4e94-9133-6580812f9481",
   "metadata": {},
   "source": [
    "see how we can access single data from the list, but wait, you said I can access selective data, that means I can access more than one data at a time, right? well, yeah, let's see how we do it in the same line\n"
   ]
  },
  {
   "cell_type": "code",
   "execution_count": 12,
   "id": "b705cfd2-7dd7-4899-a49d-7f917b140569",
   "metadata": {},
   "outputs": [
    {
     "name": "stdout",
     "output_type": "stream",
     "text": [
      "Tejas Safir\n"
     ]
    }
   ],
   "source": [
    "A = ['Aditya','Tejas','Safir','Asad']\n",
    "print(A[1],A[2])"
   ]
  },
  {
   "cell_type": "markdown",
   "id": "6cb96a27-36ef-4ca1-8848-0d91d2350f7e",
   "metadata": {},
   "source": [
    "There you go, this is how you can do it. By the way, what we did right now is called indexing, which means we accessed a specific part of the data from a data structure \n",
    "well you can also do this using variables see for yourself"
   ]
  },
  {
   "cell_type": "code",
   "execution_count": 13,
   "id": "bd657f26-13f6-49b4-9d40-814556b0a509",
   "metadata": {},
   "outputs": [
    {
     "name": "stdout",
     "output_type": "stream",
     "text": [
      "Aditya Asad\n"
     ]
    }
   ],
   "source": [
    "A = ['Aditya','Tejas','Safir','Asad']\n",
    "val1,val2 = A[0],A[3]\n",
    "print(val1,val2)"
   ]
  },
  {
   "cell_type": "markdown",
   "id": "a6474d1b-8f92-4f7f-b6a8-603a5ec1b79b",
   "metadata": {},
   "source": [
    "##### Note:- Try using negative indices and see for yourself"
   ]
  },
  {
   "cell_type": "markdown",
   "id": "f807ca2a-d925-4298-890e-7e763da2d631",
   "metadata": {},
   "source": [
    "suppose we are using this list to keep track of students in a group, but what if another student joins the group? How do I add the extra student to the list? Do I simply type it in the list? Well, I can do that, but when dealing with large data lists, we cannot just simply type it inside the list\n",
    "as sometimes the order of data matters so we need to specify right index to add the data lets see 2 ways which we can do it below"
   ]
  },
  {
   "cell_type": "code",
   "execution_count": 16,
   "id": "6f95da3d-9984-486d-a58e-e145747c47ca",
   "metadata": {},
   "outputs": [
    {
     "name": "stdout",
     "output_type": "stream",
     "text": [
      "['Aditya', 'Tejas', 'Atharva', 'Safir', 'Asad']\n"
     ]
    }
   ],
   "source": [
    "A = ['Aditya','Tejas','Safir','Asad']\n",
    "A.insert(2,\"Atharva\")\n",
    "print(A)"
   ]
  },
  {
   "cell_type": "markdown",
   "id": "bbf240a8-4161-450c-9c71-8c12be624e01",
   "metadata": {},
   "source": [
    "Well we can also add data at the end of list using __append()__ function lets see below"
   ]
  },
  {
   "cell_type": "code",
   "execution_count": 19,
   "id": "eda56e49-6395-4d8e-9112-db5a75b9eb01",
   "metadata": {},
   "outputs": [
    {
     "name": "stdout",
     "output_type": "stream",
     "text": [
      "['Aditya', 'Tejas', 'Safir', 'Asad', 'Atharva']\n"
     ]
    }
   ],
   "source": [
    "A = ['Aditya','Tejas','Safir','Asad']\n",
    "A.append(\"Atharva\")\n",
    "print(A)"
   ]
  },
  {
   "cell_type": "markdown",
   "id": "34b2f5a5-baf1-40e2-b989-cd177b6aca59",
   "metadata": {},
   "source": [
    "##### Note :- If you use the same name of list as a variable lets say you did A = A.append(\"Atharva\") you will get a empty set as A exists as a list not as a variable but you can create a append function into a complete new list wihtout changing original list lets see below"
   ]
  },
  {
   "cell_type": "code",
   "execution_count": 24,
   "id": "9e5c23cd-6fb3-4320-8b08-cdff8c3b4f60",
   "metadata": {},
   "outputs": [
    {
     "name": "stdout",
     "output_type": "stream",
     "text": [
      "['Aditya', 'Tejas', 'Safir', 'Asad', 'Atharva']\n"
     ]
    }
   ],
   "source": [
    "A = ['Aditya','Tejas','Safir','Asad']\n",
    "B = A + [\"Atharva\"]  # new list\n",
    "print(B)"
   ]
  },
  {
   "cell_type": "markdown",
   "id": "5239b5b0-fd60-4198-88c7-5c8ceffcaaef",
   "metadata": {},
   "source": [
    "Well, this creates a new list. Suppose you want to create a different group with a new member, but also want members from another group. This way you can create a new group with the existing group"
   ]
  },
  {
   "cell_type": "markdown",
   "id": "174e9242-34e4-4864-90a3-aefdea0e3c28",
   "metadata": {},
   "source": [
    "Well, let's add randomisation to the list, shall we, and let's see what we can create \n",
    "##### Challenge:- Here is a challenge for ya, suppose you and your 5 friends are in a restaurant and you want to decide who will pay the bill \n",
    "create a random output of who will pay the bill but use 2 different methods for it "
   ]
  },
  {
   "cell_type": "code",
   "execution_count": 26,
   "id": "5c16430b-eb95-4634-ad3d-6738685a2123",
   "metadata": {},
   "outputs": [
    {
     "name": "stdout",
     "output_type": "stream",
     "text": [
      "The person who will pay the bill is 'Asad'\n"
     ]
    }
   ],
   "source": [
    "import random \n",
    "Friends = [\"Aditya\",\"Atharva\",\"Safir\",\"Asad\",\"Tejas\"]\n",
    "B = random.choice(Friends) #Method 1\n",
    "print(f\"The person who will pay the bill is '{B}'\")"
   ]
  },
  {
   "cell_type": "code",
   "execution_count": 32,
   "id": "100867f4-3394-4ac6-ba82-a19515b629aa",
   "metadata": {},
   "outputs": [
    {
     "name": "stdout",
     "output_type": "stream",
     "text": [
      "The person who will pay the bill is Atharva'\n"
     ]
    }
   ],
   "source": [
    "import random\n",
    "Friends = [\"Aditya\",\"Atharva\",\"Safir\",\"Asad\",\"Tejas\"]\n",
    "random_index = random.randint(0,4) #Method 2\n",
    "print(f\"The person who will pay the bill is {Friends[random_index]}'\")"
   ]
  },
  {
   "cell_type": "markdown",
   "id": "d3155b14-9e51-4162-a9f6-776c7edfcfd7",
   "metadata": {},
   "source": [
    "Can you see any difference in both the methods well you must be thinking the first is easier since it has less code i mean you are right as i have straight away used a inbuilt function which chooses random data for me but what if we are not allowed to used __random.choice__ then we use the indexing method as each data has a index inside the list all i had to do was generate a random number as a index and then use it to access the data "
   ]
  },
  {
   "cell_type": "markdown",
   "id": "31f7e91f-4303-4623-bf1a-312cd218f25e",
   "metadata": {},
   "source": [
    "##### Note - Always think of an alternative method for your code. This enhances your thinking capacity because remember are brains are not meant for storing but rather to think"
   ]
  },
  {
   "cell_type": "markdown",
   "id": "5a24d4a3-655b-4f5e-b3e6-92023ef4684d",
   "metadata": {},
   "source": [
    "#### Index Error and Nested Lists"
   ]
  },
  {
   "cell_type": "markdown",
   "id": "dabb5d1b-ed57-46e8-8b89-dfbf2879fcba",
   "metadata": {},
   "source": [
    "As you know, lists have an index for accessing data, and each data is specified by the order of its index, but what happens when the list is too large \n",
    "where you exactly can't tell the no of indices visibly, and there is are chance you can make an error. This type of error is called an index error Let's see a common index error beginners make "
   ]
  },
  {
   "cell_type": "code",
   "execution_count": 33,
   "id": "bed0fe9d-03a0-450e-8b77-f5e9370dba4b",
   "metadata": {},
   "outputs": [
    {
     "ename": "IndexError",
     "evalue": "list index out of range",
     "output_type": "error",
     "traceback": [
      "\u001b[1;31m---------------------------------------------------------------------------\u001b[0m",
      "\u001b[1;31mIndexError\u001b[0m                                Traceback (most recent call last)",
      "Cell \u001b[1;32mIn[33], line 2\u001b[0m\n\u001b[0;32m      1\u001b[0m Friends \u001b[38;5;241m=\u001b[39m [\u001b[38;5;124m\"\u001b[39m\u001b[38;5;124mAditya\u001b[39m\u001b[38;5;124m\"\u001b[39m,\u001b[38;5;124m\"\u001b[39m\u001b[38;5;124mAtharva\u001b[39m\u001b[38;5;124m\"\u001b[39m,\u001b[38;5;124m\"\u001b[39m\u001b[38;5;124mSafir\u001b[39m\u001b[38;5;124m\"\u001b[39m,\u001b[38;5;124m\"\u001b[39m\u001b[38;5;124mAsad\u001b[39m\u001b[38;5;124m\"\u001b[39m,\u001b[38;5;124m\"\u001b[39m\u001b[38;5;124mTejas\u001b[39m\u001b[38;5;124m\"\u001b[39m]\n\u001b[1;32m----> 2\u001b[0m \u001b[38;5;28mprint\u001b[39m(Friends[\u001b[38;5;241m5\u001b[39m])\n",
      "\u001b[1;31mIndexError\u001b[0m: list index out of range"
     ]
    }
   ],
   "source": [
    "Friends = [\"Aditya\",\"Atharva\",\"Safir\",\"Asad\",\"Tejas\"]\n",
    "print(Friends[5])"
   ]
  },
  {
   "cell_type": "markdown",
   "id": "192f6b89-b3d5-4c32-8760-e4f240a2229b",
   "metadata": {},
   "source": [
    "As you saw even though there were 5 data input i still got index error as the indices begins from 0 so in case of large lists how can we tackle this lets see below"
   ]
  },
  {
   "cell_type": "code",
   "execution_count": 37,
   "id": "20d1b2a3-18e3-4a2d-b681-6f3d68bfec25",
   "metadata": {},
   "outputs": [
    {
     "name": "stdout",
     "output_type": "stream",
     "text": [
      "Tejas\n"
     ]
    }
   ],
   "source": [
    "Friends = [\"Aditya\",\"Atharva\",\"Safir\",\"Asad\",\"Tejas\"]\n",
    "B = len(Friends)\n",
    "print(Friends[B-1])"
   ]
  },
  {
   "cell_type": "markdown",
   "id": "d8b9ff42-2c84-4e38-be8c-5bca23291577",
   "metadata": {},
   "source": [
    "This is how we can get the index for large lists without making index error "
   ]
  },
  {
   "cell_type": "markdown",
   "id": "5afce45f-a508-4eae-b300-d9b9116ede25",
   "metadata": {},
   "source": [
    "##### Nested Lists"
   ]
  },
  {
   "cell_type": "markdown",
   "id": "ee2d87af-b20e-4a6d-9010-f1cb8a5c99fc",
   "metadata": {},
   "source": [
    "A nested list in Python is a list that contains other lists as its elements. This structure allows for the representation of multi-dimensional data or hierarchical relationships"
   ]
  },
  {
   "cell_type": "markdown",
   "id": "40ce5fd0-eece-495a-949e-4020d497cadc",
   "metadata": {},
   "source": [
    "Well let me explain it in simple terms with an example below "
   ]
  },
  {
   "cell_type": "code",
   "execution_count": 38,
   "id": "f2a0bf1d-eb57-48c5-b028-140689063651",
   "metadata": {},
   "outputs": [
    {
     "name": "stdout",
     "output_type": "stream",
     "text": [
      "[['Apple', 'Grapes', 'Mango'], ['Cucumber', 'Carrot', 'bitter_gourd']]\n"
     ]
    }
   ],
   "source": [
    "Fruits = [\"Apple\",\"Grapes\",\"Mango\"]\n",
    "Vegetables = [\"Cucumber\",\"Carrot\",\"bitter_gourd\"]\n",
    "Food = [Fruits,Vegetables]\n",
    "print(Food)"
   ]
  },
  {
   "cell_type": "markdown",
   "id": "0860c103-7387-4a48-b58e-8131638cf91a",
   "metadata": {},
   "source": [
    "So we created 2 lists named Fruits and Vegetables, but they have a common relation as they both are food, hence we use a nested list to create a relation between data of multiple lists "
   ]
  },
  {
   "cell_type": "markdown",
   "id": "e0215e16-44c0-4983-a2ab-94aa97326c62",
   "metadata": {},
   "source": [
    "### Project :- Rock,Paper and Scissors game with computer"
   ]
  },
  {
   "cell_type": "markdown",
   "id": "dd457f09-bf15-4e2d-af2d-cd3e7135ed8d",
   "metadata": {},
   "source": [
    "Since you have progressed so far, let's start a project from now on. At the end of every session, we will use the knowledge of the entire session to put it inside the project "
   ]
  },
  {
   "cell_type": "markdown",
   "id": "a0ba8a52-5d6b-4498-9211-efd7f0ebb288",
   "metadata": {},
   "source": [
    "#### Introduction to the Rock, Paper, Scissors Project\n",
    "Now that all the necessary knowledge has been acquired, it is time to tackle the final project of the day: a Rock, Paper, Scissors game that can be played against the computer. The game begins by prompting the user to type 0 for rock, 1 for paper, or 2 for scissors.\n",
    "\n",
    "When a choice is made, the program displays a graphic representing the user's selection, followed by the computer's randomly generated choice. The outcome is then determined based on the official rules: rock beats scissors, scissors beats paper, and paper beats rock.\n",
    "\n",
    "##### Breaking Down the Problem\n",
    "The core of the game is to randomly select between rock, paper, or scissors for the computer, compare it with the user's choice, and determine the result: win, lose, or draw. The official rules can be referenced for clarification. ASCII art for each shape is provided and stored in variables, which can be printed directly without quotation marks.\n",
    "\n",
    "##### Planning the Game Logic\n",
    "- It is helpful to break down the larger problem into smaller, manageable tasks:\n",
    "\n",
    "- Generate a random number between 0 and 2 to represent the computer's choice.\n",
    "- Obtain the user's choice via input.\n",
    "- Compare both choices using the rules of Rock, Paper, Scissors.\n",
    "- Display the appropriate ASCII art and outcome."
   ]
  },
  {
   "cell_type": "markdown",
   "id": "0e9d3d6b-aa0a-43de-8c71-683b37967590",
   "metadata": {},
   "source": [
    "##### Getting User Input\n",
    "To capture the user's choice, use an input prompt: \"What do you choose? Type 0 for rock, 1 for paper, or 2 for scissors.\" The input is expected to be 0, 1, or 2."
   ]
  },
  {
   "cell_type": "code",
   "execution_count": 39,
   "id": "5e939f70-9d91-4624-9ca0-6262bcff40c8",
   "metadata": {},
   "outputs": [
    {
     "name": "stdin",
     "output_type": "stream",
     "text": [
      "What do you choose? Type 0 for rock, 1 for paper or 2 for scissors.\n",
      " !\n"
     ]
    }
   ],
   "source": [
    "user_choice = input(\"What do you choose? Type 0 for rock, 1 for paper or 2 for scissors.\\n\")"
   ]
  },
  {
   "cell_type": "markdown",
   "id": "525c985d-e2dd-4259-ade5-16e90b5945d6",
   "metadata": {},
   "source": [
    "##### Generating the Computer's Choice\n",
    "To generate a random choice for the computer, import the random module and use random.randint(0, 2). This ensures the computer selects between 0 (rock), 1 (paper), or 2 (scissors)."
   ]
  },
  {
   "cell_type": "code",
   "execution_count": 40,
   "id": "bc44d24f-cafe-46c9-94a0-0c3813dcb182",
   "metadata": {},
   "outputs": [
    {
     "name": "stdin",
     "output_type": "stream",
     "text": [
      "What do you choose? Type 0 for rock, 1 for paper or 2 for scissors.\n",
      " 1\n"
     ]
    }
   ],
   "source": [
    "import random\n",
    "user_choice = input(\"What do you choose? Type 0 for rock, 1 for paper or 2 for scissors.\\n\")\n",
    "computer_choice = random.randint(0, 2)"
   ]
  },
  {
   "cell_type": "markdown",
   "id": "443e8463-c930-498f-8cb9-92bc46f8fa5d",
   "metadata": {},
   "source": [
    "##### Printing Choices for Debugging\n",
    "During development, it is useful to print the computer's choice to verify the logic. Use an f-string to display the result."
   ]
  },
  {
   "cell_type": "code",
   "execution_count": 41,
   "id": "1cdc9339-c2b3-4104-8686-88cd2243f13a",
   "metadata": {},
   "outputs": [
    {
     "name": "stdin",
     "output_type": "stream",
     "text": [
      "What do you choose? Type 0 for rock, 1 for paper or 2 for scissors.\n",
      " 1\n"
     ]
    },
    {
     "name": "stdout",
     "output_type": "stream",
     "text": [
      "Computer chose 0\n"
     ]
    }
   ],
   "source": [
    "import random\n",
    "user_choice = input(\"What do you choose? Type 0 for rock, 1 for paper or 2 for scissors.\\n\")\n",
    "computer_choice = random.randint(0, 2)\n",
    "print(f\"Computer chose {computer_choice}\")"
   ]
  },
  {
   "cell_type": "markdown",
   "id": "cec7b75a-0082-440c-8204-38f1383836e3",
   "metadata": {},
   "source": [
    "##### Handling Input Types and Validation\n",
    "Remember that input from the user is always a string. To compare it numerically, convert it to an integer. Additionally, handle cases where the user enters an invalid number (not 0, 1, or 2) by printing an appropriate message."
   ]
  },
  {
   "cell_type": "code",
   "execution_count": 42,
   "id": "49d73afe-ebf6-4c9a-b8e6-3106fcd7637f",
   "metadata": {},
   "outputs": [
    {
     "name": "stdin",
     "output_type": "stream",
     "text": [
      "What do you choose? Type 0 for rock, 1 for paper or 2 for scissors.\n",
      " 1\n"
     ]
    },
    {
     "name": "stdout",
     "output_type": "stream",
     "text": [
      "Computer chose 0\n"
     ]
    }
   ],
   "source": [
    "import random\n",
    "user_choice = input(\"What do you choose? Type 0 for rock, 1 for paper or 2 for scissors.\\n\")\n",
    "computer_choice = random.randint(0, 2)\n",
    "print(f\"Computer chose {computer_choice}\")\n",
    "user_choice = int(user_choice)\n",
    "if user_choice >= 3 or user_choice < 0:\n",
    "    print(\"You typed an invalid number. You lose.\")"
   ]
  },
  {
   "cell_type": "markdown",
   "id": "3966d298-5e4e-47aa-9126-8c11250155eb",
   "metadata": {},
   "source": [
    "##### Determining the Outcome\n",
    "The logic for determining the winner is as follows:\n",
    "\n",
    "- If the user and computer choose the same, it is a draw.\n",
    "- If the user chooses rock (0) and the computer chooses scissors (2), the user wins.\n",
    "- If the computer chooses rock (0) and the user chooses scissors (2), the user loses.\n",
    "- If the user's choice is greater than the computer's, the user wins.\n",
    "- If the computer's choice is greater than the user's, the user loses."
   ]
  },
  {
   "cell_type": "code",
   "execution_count": 43,
   "id": "7f224579-60ad-4772-b1a9-b43a96c880b7",
   "metadata": {},
   "outputs": [
    {
     "name": "stdin",
     "output_type": "stream",
     "text": [
      "What do you choose? Type 0 for rock, 1 for paper or 2 for scissors.\n",
      " 0\n"
     ]
    },
    {
     "name": "stdout",
     "output_type": "stream",
     "text": [
      "Computer chose 1\n",
      "You lose.\n"
     ]
    }
   ],
   "source": [
    "import random\n",
    "user_choice = input(\"What do you choose? Type 0 for rock, 1 for paper or 2 for scissors.\\n\")\n",
    "computer_choice = random.randint(0, 2)\n",
    "print(f\"Computer chose {computer_choice}\")\n",
    "user_choice = int(user_choice)\n",
    "if user_choice >= 3 or user_choice < 0:\n",
    "    print(\"You typed an invalid number. You lose.\")\n",
    "if user_choice == computer_choice:\n",
    "    print(\"It's a draw.\")\n",
    "elif user_choice == 0 and computer_choice == 2:\n",
    "    print(\"You win!\")\n",
    "elif computer_choice == 0 and user_choice == 2:\n",
    "    print(\"You lose.\")\n",
    "elif user_choice > computer_choice:\n",
    "    print(\"You win!\")\n",
    "else:\n",
    "    print(\"You lose.\")"
   ]
  },
  {
   "cell_type": "markdown",
   "id": "1595db7b-6516-4b38-9ce6-06f86654f136",
   "metadata": {},
   "source": [
    "##### Final Testing and Debugging\n",
    "Test the program by entering different choices and verifying that the correct outcome and images are displayed. If an invalid number is entered, the program should print an error message and not crash.\n",
    "\n",
    "##### Conclusion\n",
    "This project brings together concepts such as lists, randomization, variables, input handling, and conditional logic. Mapping out the logic with a flow diagram can be helpful. Writing and testing your own code is essential for understanding and mastering these concepts.\n",
    "\n",
    "##### Key Takeaways\n",
    "The Rock, Paper, Scissors project involves user input, random computer choice, and logic to determine the winner.\n",
    "Input validation is essential to handle invalid user entries and prevent program crashes.\n",
    "Using lists to store ASCII art images allows easy mapping between choices and their representations.\n",
    "Testing and debugging throughout development helps catch errors early and ensures correct program behavior."
   ]
  },
  {
   "cell_type": "markdown",
   "id": "74497883-23c6-4426-8cb0-0c24d65c9421",
   "metadata": {},
   "source": [
    "#### Note :- If you want a Full playable version with ASCII art showing actual rock paper and scissors check out my github profile and follow this path python/projects/day-4 you will get the source code for that file try it yourself"
   ]
  },
  {
   "cell_type": "markdown",
   "id": "c139680f-304f-4c3b-bcbc-cf5bbe3dc8c9",
   "metadata": {},
   "source": [
    "github profile link - https://github.com/AdityapatilSP"
   ]
  },
  {
   "cell_type": "code",
   "execution_count": null,
   "id": "415c1d5b-30ed-4778-b400-1e288bafd14e",
   "metadata": {},
   "outputs": [],
   "source": []
  }
 ],
 "metadata": {
  "kernelspec": {
   "display_name": "Python [conda env:base] *",
   "language": "python",
   "name": "conda-base-py"
  },
  "language_info": {
   "codemirror_mode": {
    "name": "ipython",
    "version": 3
   },
   "file_extension": ".py",
   "mimetype": "text/x-python",
   "name": "python",
   "nbconvert_exporter": "python",
   "pygments_lexer": "ipython3",
   "version": "3.12.7"
  }
 },
 "nbformat": 4,
 "nbformat_minor": 5
}
