{
 "cells": [
  {
   "cell_type": "markdown",
   "id": "7f4bd838-cc62-4fdf-a32f-24c1c75091d7",
   "metadata": {},
   "source": [
    "# Python Day 5"
   ]
  },
  {
   "cell_type": "markdown",
   "id": "13bb89e7-68a9-4b71-9abf-69d1ee8bde19",
   "metadata": {},
   "source": [
    "Today we will learn about Python Loops, what exactly a loop means in Python, and why we use it, or what exactly we use it for."
   ]
  },
  {
   "cell_type": "markdown",
   "id": "008cba21-164a-4237-8b17-f54070b2a94c",
   "metadata": {},
   "source": [
    "#### Loops"
   ]
  },
  {
   "cell_type": "markdown",
   "id": "9a2fb483-21f9-4d62-9315-eb2077474c34",
   "metadata": {},
   "source": [
    "The first topic I want to talk about today is the concept of Loops. Things that have to happen over and over and over again, but why do we need this in Python, and what exactly do we want to happen over and over again multiple times? Well, let's start with a simple type of loop first to understand how loop works in Python"
   ]
  },
  {
   "cell_type": "markdown",
   "id": "3b7d28cf-8cad-4de2-85b4-f32f754ab2e3",
   "metadata": {},
   "source": [
    "#### For-Loop \n",
    "The first type of loop we are going to see is the for loop. This is a simple loop used to iterate over data. Suppose I told you to write your name 100 times, so in Python, u would think I have to write 100 print statements but with help of loop you can do it in a single line lets see "
   ]
  },
  {
   "cell_type": "code",
   "execution_count": 1,
   "id": "d05d3dc3-bd4c-4336-aabf-5edf9171d824",
   "metadata": {},
   "outputs": [
    {
     "name": "stdout",
     "output_type": "stream",
     "text": [
      "Aditya\n",
      "Aditya\n",
      "Aditya\n",
      "Aditya\n",
      "Aditya\n"
     ]
    }
   ],
   "source": [
    "A = \"Aditya\"\n",
    "for i in range(0,5):\n",
    "    print(A)"
   ]
  },
  {
   "cell_type": "markdown",
   "id": "5b6c1e79-f616-4e82-9d6b-01521167ab40",
   "metadata": {},
   "source": [
    "As you saw, I printed my name 5 times using a for loop, but how does this loop work, and what is the syntax? That's what you must be wondering, right?\n",
    "well let me break it down quick and easy for you first we will see the syntax for the for-loop so \n",
    "we have __for i in range(a,b)__ in this syntax the key points are :-\n",
    "- i - this is used as a alias or a keyword for the loop\n",
    "- range(a,b) this specifies the range for iterations to happen"
   ]
  },
  {
   "cell_type": "markdown",
   "id": "33556ac6-89c9-4d9a-b052-3d058223ecef",
   "metadata": {},
   "source": [
    "Lets see how the fundaments of for loop works with an basic example "
   ]
  },
  {
   "cell_type": "code",
   "execution_count": 2,
   "id": "385dd869-ff24-46b9-afce-50d94f9282f9",
   "metadata": {},
   "outputs": [
    {
     "name": "stdout",
     "output_type": "stream",
     "text": [
      "0\n",
      "1\n",
      "2\n",
      "3\n",
      "4\n"
     ]
    }
   ],
   "source": [
    "for i in range(0,5):\n",
    "    print(i)"
   ]
  },
  {
   "cell_type": "markdown",
   "id": "68e4f06a-6be0-4d91-9a1e-9d81e018fb78",
   "metadata": {},
   "source": [
    "So the for loop iterates the range, let's say I set the range as (0,5), so the loop traverses it like (0,1,2,3,4), that means a total of 5 iterations and since __i__ is in range(0,5) i takes all the values of the range and hence we print them and saw the output but what happend in the case of printing my name i used the variable A not i so how does it work when we have variables and strings well lets see below "
   ]
  },
  {
   "cell_type": "code",
   "execution_count": 9,
   "id": "a91caf18-34ca-4eee-a1f5-cfed648ed5cd",
   "metadata": {},
   "outputs": [
    {
     "name": "stdout",
     "output_type": "stream",
     "text": [
      "Aditya\n",
      "Safir\n",
      "Asad\n"
     ]
    }
   ],
   "source": [
    "A = [\"Aditya\",\"Safir\",\"Asad\"]\n",
    "for name in A:\n",
    "    print(name)"
   ]
  },
  {
   "cell_type": "markdown",
   "id": "9a640fca-7fcb-4704-8921-2f3e128a813a",
   "metadata": {},
   "source": [
    "Well, we have used a different keyword this time __name__, which stores the no of iterations from the lists as 3 values in lists means 3 iterations, and after iterating 3 times, it stopped, which means either the keyword requires a range or it takes the range from the no of values in the data structure"
   ]
  },
  {
   "cell_type": "markdown",
   "id": "7ef7234c-0949-4c07-bdab-2943e670ca85",
   "metadata": {},
   "source": [
    "But what does the no of iterations has to do with the keyword i mean in the example where i printed my name 5 times i never said the variable A to repeat 5 times if the iteration is done through keyword(i) so that means the loop will execute as many times the value of the keyword lets see with an example again "
   ]
  },
  {
   "cell_type": "code",
   "execution_count": 10,
   "id": "75b41676-18de-491d-b67c-a6333119fa14",
   "metadata": {},
   "outputs": [
    {
     "name": "stdout",
     "output_type": "stream",
     "text": [
      "0\n",
      "1\n",
      "2\n",
      "3\n"
     ]
    }
   ],
   "source": [
    "for i in range(4):\n",
    "    print(i)"
   ]
  },
  {
   "cell_type": "code",
   "execution_count": 13,
   "id": "015231a3-f3a8-4cbc-8b6c-8d964cd10f77",
   "metadata": {},
   "outputs": [
    {
     "name": "stdout",
     "output_type": "stream",
     "text": [
      "I will be printed as many values lies in the keyword i \n",
      "I will be printed as many values lies in the keyword i \n",
      "I will be printed as many values lies in the keyword i \n",
      "I will be printed as many values lies in the keyword i \n",
      "I will be printed as many values lies in the keyword i \n",
      "4\n"
     ]
    }
   ],
   "source": [
    "A = \"I will be printed as many values lies in the keyword i \"\n",
    "for i in range(0,5):\n",
    "    print(A)\n",
    "print(i)"
   ]
  },
  {
   "cell_type": "markdown",
   "id": "45cf4ab9-ee0d-427a-b915-c528a7f403f6",
   "metadata": {},
   "source": [
    "Now you must be wondering if the value is printed 5 times, but the value of i is 4, it's because in Python, counting begins from 0, so I stored values for iterations from range as (0,1,2,3,4) even if they are 5 values it will print 4 so thats how basically loop works "
   ]
  },
  {
   "cell_type": "markdown",
   "id": "eadebb00-5629-42fb-b394-daf99cb2de96",
   "metadata": {},
   "source": [
    "##### Note :- Noticed how in one example when i was printed for range(4), it was like  0 1 2 3 but in previous example it was only 4 why was it like that well in previous example the print statement was indented outside the for loop block thats why i did not executed that many times as the range was specified try taking it inside the loop and see the difference \n",
    "    "
   ]
  },
  {
   "cell_type": "markdown",
   "id": "87a2e6e4-f141-433c-8b6d-2fe622846e95",
   "metadata": {},
   "source": [
    "Well i have got a challenge for ya but let me build the first part of the challenge for ya and see if you could do the second part yourself \n",
    "Suppose i have a list of students marks and i want to add all of them and display the output well pretty easy just use the sum function right? "
   ]
  },
  {
   "cell_type": "code",
   "execution_count": 15,
   "id": "cb721ce1-2ca2-485e-ac1b-021a121dfc26",
   "metadata": {},
   "outputs": [
    {
     "name": "stdout",
     "output_type": "stream",
     "text": [
      "964\n"
     ]
    }
   ],
   "source": [
    "A = [78,86,45,67,99,97,67,45,36,75,85,93,91]\n",
    "total_score = sum(A)\n",
    "print(total_score)"
   ]
  },
  {
   "cell_type": "markdown",
   "id": "f348dc9d-fdd4-4860-a0ee-b88f5af54587",
   "metadata": {},
   "source": [
    "Well, but now I want to do it without using a built-in function. Let's say I want to use a loop. Can we do it using a for loop \n",
    "Let's see below"
   ]
  },
  {
   "cell_type": "code",
   "execution_count": 16,
   "id": "d7bbee50-c025-4f9e-92fa-3fe52aa4c04a",
   "metadata": {},
   "outputs": [
    {
     "name": "stdout",
     "output_type": "stream",
     "text": [
      "964\n"
     ]
    }
   ],
   "source": [
    "A = [78,86,45,67,99,97,67,45,36,75,85,93,91]\n",
    "sum = 0\n",
    "for score in A:\n",
    "    sum += score\n",
    "print(sum)"
   ]
  },
  {
   "cell_type": "markdown",
   "id": "9035c3da-6c99-4f6f-bcea-fa8d1231fac0",
   "metadata": {},
   "source": [
    "Well, as you I created a sum variable with a 0 value, and each time the keyword score iterates through the list A, every score will add to the empty variable sum, eventually giving me the answer Well, now my part is done. Here is the challenge for you \n",
    "- Use for loop to get the highest marks in the list without using __max()__ function or any inbuilt function\n",
    "Dont worry if you cannot process the logic yet refer mine below but first try yourself without watching mine"
   ]
  },
  {
   "cell_type": "code",
   "execution_count": 20,
   "id": "f1285bfc-d6bf-455d-a7f3-1571a33cd8ec",
   "metadata": {},
   "outputs": [
    {
     "name": "stdout",
     "output_type": "stream",
     "text": [
      "99\n"
     ]
    }
   ],
   "source": [
    "A = [78,86,45,67,99,97,67,45,36,75,85,93,91]\n",
    "highest_score = 0\n",
    "for score in A:\n",
    "    if score > highest_score:\n",
    "        highest_score = score\n",
    "    \n",
    "print(highest_score)"
   ]
  },
  {
   "cell_type": "markdown",
   "id": "bd51b4e7-6a4a-46c2-b973-85c90ce4117c",
   "metadata": {},
   "source": [
    "As you saw how we used a for loop to get the highest score from the list, but how did we do it? Let's break it down simply\n",
    "1. Set an empty variable, highest_score, to compare all the scores\n",
    "2. When the score iterates through the lists, we put a condition on it\n",
    "3. Whether score > highest_score, which is true, then we set the highest_score value to the score\n",
    "4. That means after each iteration, every new highest_score value will be compared, and that's how we will determine which one is the highest\n",
    "5. The loop will automatically stop after the if condition is fullfilled"
   ]
  },
  {
   "cell_type": "markdown",
   "id": "df98da7c-a697-4551-9abd-e17b74ece36e",
   "metadata": {},
   "source": [
    "#### Coding Challenege well i have got another interesting challeneg for you its FizzBuzz"
   ]
  },
  {
   "cell_type": "markdown",
   "id": "df671c0e-661a-4253-b1bd-2608defef15b",
   "metadata": {},
   "source": [
    "##### FizzBuzz\n",
    "You are going to write a program that automatically prints the solution to the FizzBuzz game. These are the rules of the FizzBuzz game:\n",
    "\n",
    "\n",
    "\n",
    "Your program should print each number from 1 to 100 in turn and include number 100.\n",
    "\n",
    "\n",
    "\n",
    "But when the number is divisible by 3 then instead of printing the number it should print \"Fizz\".\n",
    "\n",
    "\n",
    "\n",
    "When the number is divisible by 5, then instead of printing the number it should print \"Buzz\".`\n",
    "\n",
    "\n",
    "\n",
    "And if the number is divisible by both 3 and 5 e.g. 15 then instead of the number it should print \"FizzBuzz\"\n",
    "\n",
    "\n",
    "\n",
    "e.g. it might start off like this:\n",
    "\n",
    "1\n",
    "2\n",
    "Fizz\n",
    "4\n",
    "Buzz\n",
    "Fizz\n",
    "7\n",
    "8\n",
    "Fizz\n",
    "Buzz\n",
    "11\n",
    "Fizz\n",
    "13\n",
    "14\n",
    "FizzBuzz\n",
    "...etc\n",
    "\n",
    "\n",
    "\n"
   ]
  },
  {
   "cell_type": "code",
   "execution_count": 23,
   "id": "7b082870-e7bd-4a60-9614-f142aa3dcb43",
   "metadata": {},
   "outputs": [
    {
     "name": "stdout",
     "output_type": "stream",
     "text": [
      "1\n",
      "2\n",
      "Fizz\n",
      "4\n",
      "Buzz\n",
      "Fizz\n",
      "7\n",
      "8\n",
      "Fizz\n",
      "Buzz\n",
      "11\n",
      "Fizz\n",
      "13\n",
      "14\n",
      "FizzBuzz\n"
     ]
    }
   ],
   "source": [
    "for i in range(1, 16):  # 1 te 15 but you take upto 100 \n",
    "    if i % 3 == 0 and i % 5 == 0:\n",
    "        print(\"FizzBuzz\")\n",
    "    elif i % 3 == 0:\n",
    "        print(\"Fizz\")\n",
    "    elif i % 5 == 0:\n",
    "        print(\"Buzz\")\n",
    "    else:\n",
    "        print(i)\n"
   ]
  },
  {
   "cell_type": "markdown",
   "id": "eb59a56a-667b-47e1-b54b-aca1f3d0d852",
   "metadata": {},
   "source": [
    "#### For today's project checkout my github profile and head to python and projects we will make a random password generator "
   ]
  },
  {
   "cell_type": "code",
   "execution_count": null,
   "id": "1f926b7c-44a3-48c3-a0b1-65c7864bfb1c",
   "metadata": {},
   "outputs": [],
   "source": []
  }
 ],
 "metadata": {
  "kernelspec": {
   "display_name": "Python [conda env:base] *",
   "language": "python",
   "name": "conda-base-py"
  },
  "language_info": {
   "codemirror_mode": {
    "name": "ipython",
    "version": 3
   },
   "file_extension": ".py",
   "mimetype": "text/x-python",
   "name": "python",
   "nbconvert_exporter": "python",
   "pygments_lexer": "ipython3",
   "version": "3.12.7"
  }
 },
 "nbformat": 4,
 "nbformat_minor": 5
}
