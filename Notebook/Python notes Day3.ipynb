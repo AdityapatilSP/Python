{
 "cells": [
  {
   "cell_type": "markdown",
   "id": "046eb37e-cd10-43bd-98fc-eca38d830bd6",
   "metadata": {},
   "source": [
    "# Python Day-3"
   ]
  },
  {
   "cell_type": "markdown",
   "id": "4ff5d473-00a2-4ab8-842e-e7a256167fd9",
   "metadata": {},
   "source": [
    "In this session we will learn about control flow and logical operators"
   ]
  },
  {
   "cell_type": "markdown",
   "id": "139e7258-d696-45c9-ab19-30f046e2b924",
   "metadata": {},
   "source": [
    "you must have wondered there are many conditions used in real life for example if this happens then do this else do this\n",
    "same way in programming we use these statements known as conditional statements"
   ]
  },
  {
   "cell_type": "markdown",
   "id": "783c9c64-bf65-4f69-8bd9-e454026b33c8",
   "metadata": {},
   "source": [
    "what exactly does this conditional statement does and how does it controls the flow of the code \n",
    "lets see one with an basic example "
   ]
  },
  {
   "cell_type": "markdown",
   "id": "f2ff59d6-eb4f-46c4-bc17-692ab3d0d0e6",
   "metadata": {},
   "source": [
    "#### Conditional Statement"
   ]
  },
  {
   "cell_type": "code",
   "execution_count": 3,
   "id": "663149a9-844e-442e-a615-3f7f19077fbb",
   "metadata": {},
   "outputs": [
    {
     "name": "stdin",
     "output_type": "stream",
     "text": [
      "what is your age 20\n"
     ]
    },
    {
     "name": "stdout",
     "output_type": "stream",
     "text": [
      "you are eligible to vote\n"
     ]
    }
   ],
   "source": [
    "age = int(input(\"what is your age\"))\n",
    "if age >= 18:\n",
    "    print(\"you are eligible to vote\")"
   ]
  },
  {
   "cell_type": "markdown",
   "id": "978f52ba-dbd2-4dd1-b16c-c06980769932",
   "metadata": {},
   "source": [
    "##### If-statement logic\n",
    "Now this was a basic conditional statement used with an if-statement, where we created a condition for our input variable using operators\n",
    "But notice why the print statement is indented inside the if-statement and not written like normal \n",
    "because Python is an indentation-sensitive language, and that print statement was specifically for the if-statement, hence it will only work \n",
    "If the if-statement is executed."
   ]
  },
  {
   "cell_type": "markdown",
   "id": "9fe3ab51-c4be-43c3-a083-cd31d60d3a6b",
   "metadata": {},
   "source": [
    "##### Is If-statement enough?\n",
    "but what if I have more than 2 restrictions, or I want different conditions to satisfy alternatively, \n",
    "we cannot use an if-statement for every condition, even if one is true, there must be a false one too, right?\n",
    "How do we tackle the false one or the second condition using the same input\n",
    "lets see below with an example "
   ]
  },
  {
   "cell_type": "code",
   "execution_count": 4,
   "id": "479150be-f5ef-4242-8a34-201571ec11a6",
   "metadata": {},
   "outputs": [
    {
     "name": "stdin",
     "output_type": "stream",
     "text": [
      "what is your age 12\n"
     ]
    },
    {
     "name": "stdout",
     "output_type": "stream",
     "text": [
      "Sorry you are not eligible yet try when you're 18 :)\n"
     ]
    }
   ],
   "source": [
    "age = int(input(\"what is your age\"))\n",
    "if age >= 18:\n",
    "    print(\"you are eligible to vote\")\n",
    "else:\n",
    "    print(\"Sorry you are not eligible yet try when you're 18 :)\")"
   ]
  },
  {
   "cell_type": "markdown",
   "id": "5c3a50d6-c880-45cb-bb92-7e44c6155006",
   "metadata": {},
   "source": [
    "##### if/else-relationship"
   ]
  },
  {
   "cell_type": "markdown",
   "id": "774a52ca-c954-464d-820a-0d92340f0347",
   "metadata": {},
   "source": [
    "The else statement works as a counterpart or an alternative part for the if statement, putting another restriction on the condition we provided\n",
    "just imagine it like this: \"if this works, do this else, do this.\" now, get it what I am trying to say\n",
    "we will further see more examples on that a detailed one for better understanding."
   ]
  },
  {
   "cell_type": "markdown",
   "id": "80cf61d3-8d76-4454-b240-d072eba462ee",
   "metadata": {},
   "source": [
    "##### Roller coaster example"
   ]
  },
  {
   "cell_type": "markdown",
   "id": "7c77bf3a-3452-476e-a2a6-c73d7bc00454",
   "metadata": {},
   "source": [
    "suppose you want to go on a roller coaster ride, but you see there are certain restrictions on the ride \n",
    "lets say the first one is height so lets create a program for that below"
   ]
  },
  {
   "cell_type": "code",
   "execution_count": 5,
   "id": "a8858697-19c4-4b7e-bd74-f3b11bdba63c",
   "metadata": {},
   "outputs": [
    {
     "name": "stdout",
     "output_type": "stream",
     "text": [
      "Welcome to the roller coaster ride\n"
     ]
    },
    {
     "name": "stdin",
     "output_type": "stream",
     "text": [
      "Before that may i know your height sir?  125\n"
     ]
    },
    {
     "name": "stdout",
     "output_type": "stream",
     "text": [
      " Sorry sir you are a bit short better luck next time :( \n"
     ]
    }
   ],
   "source": [
    "print(\"Welcome to the roller coaster ride\")\n",
    "height = int(input(\"Before that may i know your height sir? \"))\n",
    "\n",
    "if height >= 150:\n",
    "    print(\"You are eligible enjoy ur ride sir :) \")\n",
    "else :\n",
    "    print(\" Sorry sir you are a bit short better luck next time :( \")"
   ]
  },
  {
   "cell_type": "markdown",
   "id": "aa7dbb55-bafc-4940-940e-9dc329d7b5b5",
   "metadata": {},
   "source": [
    "but have you wondered what makes these conditional statements functional, or how they compare our input with the given condition?\n",
    "- For that we use conditional operators lets see each operator with example and know their function"
   ]
  },
  {
   "cell_type": "markdown",
   "id": "3745141c-bbc1-4e9e-bb29-e8c3dfd6be66",
   "metadata": {},
   "source": [
    "#### Conditional Operators"
   ]
  },
  {
   "cell_type": "markdown",
   "id": "de8c2d5c-529c-4750-a9cd-096b1f3e2e5f",
   "metadata": {},
   "source": [
    "These operators are used to compare the input or data with the given condition to determine which block of the conditional statement to execute\n",
    "We have 6 conditional operators \n",
    "1.   '>'   Greater than \n",
    "2.   '<'    Less than\n",
    "3.   '>='   Greater than or Equal to \n",
    "4.   '<='   Less than or Equal to \n",
    "5.   '=='   Equal to\n",
    "6.   '=!'   not Equal to "
   ]
  },
  {
   "cell_type": "markdown",
   "id": "a0535a8b-27ca-4cca-a348-fed703d8b63d",
   "metadata": {},
   "source": [
    "do not use '' while writing in code i used it to specify the operator "
   ]
  },
  {
   "cell_type": "markdown",
   "id": "e2903d3a-34c1-45ee-b2f0-ca8dcb8486bd",
   "metadata": {},
   "source": [
    "The most important in these is the == operator as this one means absolute Equal and is used to compare Equal values\n",
    "lets see one example"
   ]
  },
  {
   "cell_type": "code",
   "execution_count": 6,
   "id": "2cbfd059-f35a-4867-8292-c9dac3446d28",
   "metadata": {},
   "outputs": [
    {
     "name": "stdin",
     "output_type": "stream",
     "text": [
      "score please 12\n"
     ]
    },
    {
     "name": "stdout",
     "output_type": "stream",
     "text": [
      "you won\n"
     ]
    }
   ],
   "source": [
    "score = int(input(\"score please\"))\n",
    "if score == 12:\n",
    "    print(\"you won\")\n",
    "else:\n",
    "    print(\"you lost\")"
   ]
  },
  {
   "cell_type": "markdown",
   "id": "d06d6482-58fa-4dd2-890f-84d8d2fa5f00",
   "metadata": {},
   "source": [
    "any other value than 12 will result in the else block execution hence we need to be careful while using these operators"
   ]
  },
  {
   "cell_type": "markdown",
   "id": "744f6c8e-8869-43ed-b79c-c9746a31453a",
   "metadata": {},
   "source": [
    "##### Modulo Operator"
   ]
  },
  {
   "cell_type": "markdown",
   "id": "c840d329-0dd3-4d15-a9d6-d3f3b82f3538",
   "metadata": {},
   "source": [
    "The Modulo or the Modulus operator is a crucial operator in programming. This is used in many cases\n",
    "in Python. The Modulo operator returns the remainder of a division operation. Confused?\n",
    "lets see an example"
   ]
  },
  {
   "cell_type": "code",
   "execution_count": 7,
   "id": "bb6c1173-c03b-409c-9b41-651c23a3f917",
   "metadata": {},
   "outputs": [
    {
     "name": "stdout",
     "output_type": "stream",
     "text": [
      "0\n"
     ]
    }
   ],
   "source": [
    "print(10%5)"
   ]
  },
  {
   "cell_type": "markdown",
   "id": "f26bedaa-8d63-4125-b6aa-1001a6dd6b01",
   "metadata": {},
   "source": [
    "so here 10 is completely divisible by 5 hence it return 0 as the remainder but lets see one more for clarity"
   ]
  },
  {
   "cell_type": "code",
   "execution_count": 8,
   "id": "6e63cb97-4a73-4e16-8dd8-3fc37107bf21",
   "metadata": {},
   "outputs": [
    {
     "name": "stdout",
     "output_type": "stream",
     "text": [
      "1\n"
     ]
    }
   ],
   "source": [
    "print(10 % 3)"
   ]
  },
  {
   "cell_type": "markdown",
   "id": "69bdcd40-07a0-4997-b7bc-d1ceac0ab3e8",
   "metadata": {},
   "source": [
    "but what exactly do I use it for, you must be wondering, right?\n",
    "Let me give you a challenge: find out if the given number from the user is even or not\n",
    "lets see if u can do it , dont worry if u cant lets see the solution below"
   ]
  },
  {
   "cell_type": "code",
   "execution_count": 9,
   "id": "7f839333-4609-4194-8b1f-1a7c065e94fb",
   "metadata": {},
   "outputs": [
    {
     "name": "stdin",
     "output_type": "stream",
     "text": [
      "Enter a number 12\n"
     ]
    },
    {
     "name": "stdout",
     "output_type": "stream",
     "text": [
      "Even number\n"
     ]
    }
   ],
   "source": [
    "num = int(input(\"Enter a number\"))\n",
    "if num % 2 == 0:\n",
    "    print(\"Even number\")\n",
    "else:\n",
    "    print(\"Not even number\")"
   ]
  },
  {
   "cell_type": "markdown",
   "id": "5936d343-db40-4bb9-b3ea-b71b37a80ff0",
   "metadata": {},
   "source": [
    "So here we saw that we can find even numbers using the Modulo operator, as any even number divided by 2 gives a remainder of 0\n",
    "so you can use Modulo according to the requirement of the logic"
   ]
  },
  {
   "cell_type": "markdown",
   "id": "fb60ca7b-cb79-490c-a8f3-0b3673001428",
   "metadata": {},
   "source": [
    "##### Nested If-statements and elif statements"
   ]
  },
  {
   "cell_type": "markdown",
   "id": "2cd0f0ed-8814-4b33-91f8-a851760c2da9",
   "metadata": {},
   "source": [
    "Suppose there are more conditions or there is a condition inside conditions, then the basic if/else won't work there \n",
    "What would we do in these situations? Well, we use nested if-statements with elif statements for that\n",
    "lets see a example with order but we will increase condition by condition to see how we can manage the control flow"
   ]
  },
  {
   "cell_type": "markdown",
   "id": "cf1d53ee-c5fc-475b-a606-0e365616cad3",
   "metadata": {},
   "source": [
    "Let's take the same roller coaster example, but this time we will add a ticket price condition: if age > 18, they pay more, and < 18, they pay less\n",
    "how about it got any idea well no worries lets see below "
   ]
  },
  {
   "cell_type": "code",
   "execution_count": 13,
   "id": "4c9ef043-fd54-4d60-90e6-0349d29a2eb2",
   "metadata": {},
   "outputs": [
    {
     "name": "stdout",
     "output_type": "stream",
     "text": [
      "Welcome to the roller coaster ride\n"
     ]
    },
    {
     "name": "stdin",
     "output_type": "stream",
     "text": [
      "Before that may i know your height sir?  154\n"
     ]
    },
    {
     "name": "stdout",
     "output_type": "stream",
     "text": [
      "You are eligible enjoy ur ride sir :) \n"
     ]
    },
    {
     "name": "stdin",
     "output_type": "stream",
     "text": [
      "What is your age 16\n"
     ]
    },
    {
     "name": "stdout",
     "output_type": "stream",
     "text": [
      "Please pay 7$\n"
     ]
    }
   ],
   "source": [
    "print(\"Welcome to the roller coaster ride\")\n",
    "height = int(input(\"Before that may i know your height sir? \"))\n",
    "\n",
    "if height >= 150:\n",
    "    print(\"You are eligible enjoy ur ride sir :) \")\n",
    "    age = int(input(\"What is your age\"))\n",
    "    if age <= 18:\n",
    "        print(\"Please pay 7$\")\n",
    "    else:\n",
    "        print(\"Please pay 12$\")\n",
    "else :\n",
    "    print(\" Sorry sir you are a bit short better luck next time :( \")"
   ]
  },
  {
   "cell_type": "markdown",
   "id": "1c8ef014-592d-41cf-ada7-8ee49407a3d6",
   "metadata": {},
   "source": [
    "see how the second if-condition of age is inside an if-condition for height. This is called a nested if-statement that is\n",
    "one condition inside another, but what about an elif statement? What does it do? So let's say I want another condition that \n",
    "any person who is less than 12 years old pays only 5$. How would I do that? Do I have to write an if-statement again \n",
    "well lets see how we solve this below"
   ]
  },
  {
   "cell_type": "code",
   "execution_count": 14,
   "id": "b6695fae-4824-4a64-bd72-2a0fcd8433d3",
   "metadata": {},
   "outputs": [
    {
     "name": "stdout",
     "output_type": "stream",
     "text": [
      "Welcome to the roller coaster ride\n"
     ]
    },
    {
     "name": "stdin",
     "output_type": "stream",
     "text": [
      "Before that may i know your height sir?  179\n"
     ]
    },
    {
     "name": "stdout",
     "output_type": "stream",
     "text": [
      "You are eligible enjoy ur ride sir :) \n"
     ]
    },
    {
     "name": "stdin",
     "output_type": "stream",
     "text": [
      "What is your age 11\n"
     ]
    },
    {
     "name": "stdout",
     "output_type": "stream",
     "text": [
      "Please pay 5$\n"
     ]
    }
   ],
   "source": [
    "print(\"Welcome to the roller coaster ride\")\n",
    "height = int(input(\"Before that may i know your height sir? \"))\n",
    "\n",
    "if height >= 150:\n",
    "    print(\"You are eligible enjoy ur ride sir :) \")\n",
    "    age = int(input(\"What is your age\"))\n",
    "    if age <= 12:\n",
    "        print(\"Please pay 5$\")\n",
    "    elif age <= 18:\n",
    "        print(\"Please pay 7$\")\n",
    "    else:\n",
    "        print(\"Please pay 12$\")\n",
    "else :\n",
    "    print(\" Sorry sir you are a bit short better luck next time :( \")"
   ]
  },
  {
   "cell_type": "markdown",
   "id": "eee245a9-2809-4b7c-9547-b59b8608124f",
   "metadata": {},
   "source": [
    "Elif statement lets you add more subconditions inside a nested block of if statements, or even if the if statement is not nested, you can still add many conditions using elif statement as elif means 'else-if' hence before else and apart if you can add many condition using Elif"
   ]
  },
  {
   "cell_type": "markdown",
   "id": "b1324e7c-8f0a-4edc-987e-018557a9d072",
   "metadata": {},
   "source": [
    "##### Coding Challenge for you - make a BMI calculator with Interpretations like it should tell if the BMI falls in underweight, healthy weight, or obsese you can also add more category according to WHO."
   ]
  },
  {
   "cell_type": "markdown",
   "id": "55b416b9-c9de-4b14-892d-aa11ff98f8be",
   "metadata": {},
   "source": [
    "##### Multiple if-statements in succession"
   ]
  },
  {
   "cell_type": "markdown",
   "id": "677aafb2-2b52-4409-bcec-2001a6cf0552",
   "metadata": {},
   "source": [
    "Previously, we explored how to use if, elif, and else statements to check for multiple conditions. In that approach, only one condition is checked, even if there are multiple conditions present. If the first condition is true, the corresponding code executes, and the rest are bypassed."
   ]
  },
  {
   "cell_type": "markdown",
   "id": "3491095b-a976-4295-8fe4-30709981bb77",
   "metadata": {},
   "source": [
    "Let's modify the roller coaster example slightly to understand this concept better. How about we add a price for getting a photograph, and then show them the total amount they have to pay. Got any idea for this one, like where do we indent the next if-block and why the indentation matters\n",
    "lets see below with an example"
   ]
  },
  {
   "cell_type": "code",
   "execution_count": 3,
   "id": "b00b5a58-29e3-469b-84bc-8b8ec56cf2b9",
   "metadata": {},
   "outputs": [
    {
     "name": "stdout",
     "output_type": "stream",
     "text": [
      "Welcome to the roller coaster ride\n"
     ]
    },
    {
     "name": "stdin",
     "output_type": "stream",
     "text": [
      "Before that may i know your height sir?  189\n"
     ]
    },
    {
     "name": "stdout",
     "output_type": "stream",
     "text": [
      "You are eligible enjoy ur ride sir :) \n"
     ]
    },
    {
     "name": "stdin",
     "output_type": "stream",
     "text": [
      "What is your age 15\n"
     ]
    },
    {
     "name": "stdout",
     "output_type": "stream",
     "text": [
      "Teenagers tickets are 7$\n"
     ]
    },
    {
     "name": "stdin",
     "output_type": "stream",
     "text": [
      "Do you want to have a photo take? type y for Yes and n for No, y\n"
     ]
    },
    {
     "name": "stdout",
     "output_type": "stream",
     "text": [
      "Your final bill is 10$\n"
     ]
    }
   ],
   "source": [
    "print(\"Welcome to the roller coaster ride\")\n",
    "height = int(input(\"Before that may i know your height sir? \"))\n",
    "bill = 0 \n",
    "if height >= 150:\n",
    "    print(\"You are eligible enjoy ur ride sir :) \")\n",
    "    age = int(input(\"What is your age\"))\n",
    "    if age <= 12:\n",
    "        bill = 5\n",
    "        print(\"Children tickets are 5$\")\n",
    "    elif age <= 18:\n",
    "        bill = 7\n",
    "        print(\"Teenagers tickets are 7$\")\n",
    "    else:\n",
    "        bill = 12\n",
    "        print(\"Adult tickets are 12$\")\n",
    "    wants_photo = input(\"Do you want to have a photo take? type y for Yes and n for No,\")\n",
    "    if wants_photo == \"y\":\n",
    "        bill += 3\n",
    "    print(f\"Your final bill is {bill}$\")\n",
    "else :\n",
    "    print(\" Sorry sir you are a bit short better luck next time :( \")"
   ]
  },
  {
   "cell_type": "markdown",
   "id": "1c1f60f8-9a22-403c-8382-f771e1164cd7",
   "metadata": {},
   "source": [
    "yep the example got a bit confusing and large for ya isnt it\n",
    "well dont worry let me break it down for ya in simple terms \n",
    "- So as ypu saw in the previous example we only asked for height and age and gave then the ticket price\n",
    "- but this time we added another condition that do you want a photo take which costs 3$ extra\n",
    "- Now that if the answer is yes we need to add 3$ to the amount but wait we were not keeping a track of the amount as we were only giving prices\n",
    "- Thats why we use bill variable and set it to 0 as without initial inputs we dont know what the bill is and later based on inputs it will increase\n",
    "- Hence adding other condition we compared the value with string using == and gave the final bill "
   ]
  },
  {
   "cell_type": "markdown",
   "id": "74fda4d7-3b43-4dfd-be27-9a41e2c99b32",
   "metadata": {},
   "source": [
    "dont worry i have got something for you to better understand this example \n",
    "ever heard about flowcharts here is one flowchart for the example \n",
    "https://app.diagrams.net/?lightbox=1&target=blank&highlight=0000ff&edit=_blank&layers=1&nav=1&title=Rollercoaster%204#Uhttps%3A%2F%2Fdrive.google.com%2Fuc%3Fid%3D1aoRTeFOb2SJO7ofMnhTCneCEboHowF2A%26export%3Ddownload#%7B%22pageId%22%3A%22bzYDor7Mf7Ch-uxfBpj_%22%7D"
   ]
  },
  {
   "cell_type": "markdown",
   "id": "9e0b9d17-84d0-467a-b07d-8b0d1f3e1d23",
   "metadata": {},
   "source": [
    "#### Python Pizza order"
   ]
  },
  {
   "cell_type": "markdown",
   "id": "3d3b6132-f60d-4b52-9e00-76a63f590d8e",
   "metadata": {},
   "source": [
    "Now this is the ultimate example for today's topic we will create a Pizza order system using the conditional statements and conditional operators\n",
    "The description of the Pizza order system is as follow:-\n",
    "\n"
   ]
  },
  {
   "cell_type": "markdown",
   "id": "9d966e9a-2abd-4b9c-99b6-b315015b4c4d",
   "metadata": {},
   "source": [
    "##### When running the program, it first displays \"Welcome to Python Pizza Deliveries!\" and then asks, \"What size pizza do you want?\" The user can choose from S, M, or L. For example, choosing L for large.\n",
    "\n",
    "##### Next, it asks, \"Do you want pepperoni on your pizza?\" and then \"Do you want extra cheese?\" The answers are saved into variables: size, pepperoni, and extra_cheese.\n",
    "\n",
    "##### The program will then print out the final bill amount, such as \"Your final bill is...\" followed by the calculated price. For instance, the final bill could be $28 based on the pricing rules."
   ]
  },
  {
   "cell_type": "markdown",
   "id": "fa432e17-9266-486c-af63-b8e214df95fd",
   "metadata": {},
   "source": [
    "##### Pizza Pricing — Problem Statement\n",
    "\n",
    "- **Pricing Details**\n",
    "  - Small (S): $15\n",
    "  - Medium (M): $20\n",
    "  - Large (L): $25\n",
    "\n",
    "- **Additional charges**\n",
    "  - Pepperoni on a small pizza: +$2\n",
    "  - Pepperoni on medium or large pizza: +$3\n",
    "  - Extra cheese: +$1\n",
    "\n",
    "##### Goal / TODO\n",
    "1. Read user choices (size, pepperoni, extra cheese).\n",
    "2. Use `if` / `elif` / `else` to decide base price.\n",
    "3. Use **nested if** to add a pepperoni charge that depends on size.\n",
    "4. Use **multiple if** statements to add other add-ons (extra cheese).\n",
    "5. Print a clean invoice showing breakdown and total.\n",
    "\n",
    "##### Example inputs\n",
    "- Size: S / M / L (or small / medium / large)\n",
    "- Pepperoni: y / n\n",
    "- Extra cheese: y / n\n"
   ]
  },
  {
   "cell_type": "code",
   "execution_count": 4,
   "id": "d913183f-cff1-40ac-94d8-e0f6fb66d485",
   "metadata": {},
   "outputs": [
    {
     "name": "stdout",
     "output_type": "stream",
     "text": [
      "Welcome to Python Pizza Deliveries!\n"
     ]
    },
    {
     "name": "stdin",
     "output_type": "stream",
     "text": [
      "What size of pizza do you want? S, M, or L? L\n",
      " Do you want pepperoni? Y or N ?: Y\n",
      " Do you want extra cheese? Y or N? Y\n"
     ]
    },
    {
     "name": "stdout",
     "output_type": "stream",
     "text": [
      "Your final bill is: $29.\n"
     ]
    }
   ],
   "source": [
    "print(\"Welcome to Python Pizza Deliveries!\")\n",
    "size = input(\"What size of pizza do you want? S, M, or L?\")\n",
    "pepperoni = input(\" Do you want pepperoni? Y or N ?:\")\n",
    "extra_cheese = input(\" Do you want extra cheese? Y or N?\")\n",
    "\n",
    "bill = 0\n",
    "if size == \"S\":\n",
    "    bill += 15\n",
    "elif size == \"M\":\n",
    "    bill += 20\n",
    "elif size == \"L\":\n",
    "    bill += 25\n",
    "else:\n",
    "    print(\"You typed the wrong inputs.\")\n",
    "\n",
    "if pepperoni == \"Y\":\n",
    "    if size == \"S\":\n",
    "        bill += 2\n",
    "    else:\n",
    "        bill += 3\n",
    "\n",
    "if extra_cheese == \"Y\":\n",
    "    bill += 1\n",
    "\n",
    "print(f\"Your final bill is: ${bill}.\")"
   ]
  },
  {
   "cell_type": "markdown",
   "id": "8a1a650d-ad1d-42bd-87cd-06f2959ded6d",
   "metadata": {},
   "source": [
    "Try to do it yourself with less reference to my code, use your thinking more, remember our brains are not meant for storage, but to think, so put your brain to thinking more and dont worry if you need to refer the code but hey practice more so next time you should do it yourself"
   ]
  },
  {
   "cell_type": "markdown",
   "id": "4c377f68-70c1-422f-af78-3bbf7e18bb7b",
   "metadata": {},
   "source": [
    "#### Logical Operators"
   ]
  },
  {
   "cell_type": "markdown",
   "id": "f3a85f91-c406-49b1-bfc5-14c60d0f9663",
   "metadata": {},
   "source": [
    "Up to this point, we have used if statements, else statements, elif statements, multiple if statements, as well as nested if statements. However, we have not yet been able to check for multiple conditions in the same line of code."
   ]
  },
  {
   "cell_type": "markdown",
   "id": "1c6fc584-c3d7-4612-9569-cb57d76a4ee6",
   "metadata": {},
   "source": [
    "##### The and Operator\n",
    "When you combine two different conditions using the and operator, both conditions must be True for the entire line of code to be True. If just one of them is True and the other is False, then the overall statement evaluates to False."
   ]
  },
  {
   "cell_type": "code",
   "execution_count": 5,
   "id": "4f47ecd9-00d5-426a-b8c1-8a93e8c1869c",
   "metadata": {},
   "outputs": [
    {
     "name": "stdout",
     "output_type": "stream",
     "text": [
      "False\n",
      "True\n",
      "True\n",
      "False\n"
     ]
    }
   ],
   "source": [
    "a = 12\n",
    "print(a > 15)  # False\n",
    "print(a > 10)  # True\n",
    "print(a > 10 and a < 13)  # True\n",
    "print(a > 15 and a < 13)  # False"
   ]
  },
  {
   "cell_type": "markdown",
   "id": "8b62b3be-c5d3-4995-8b78-60f91767b3fb",
   "metadata": {},
   "source": [
    "##### The or Operator\n",
    "If you only need one of the conditions to be True, you can use the or operator instead. If either condition is True, or if both are True, the statement evaluates to True. It is only when both conditions are False that the statement becomes False."
   ]
  },
  {
   "cell_type": "code",
   "execution_count": 6,
   "id": "362c2671-023c-492d-9c1f-03f0903b4f31",
   "metadata": {},
   "outputs": [
    {
     "name": "stdout",
     "output_type": "stream",
     "text": [
      "True\n"
     ]
    }
   ],
   "source": [
    "a = 12\n",
    "print(a > 10 or a < 10)  # True"
   ]
  },
  {
   "cell_type": "markdown",
   "id": "71a56780-a081-4cf6-8121-4740947bb359",
   "metadata": {},
   "source": [
    "##### The not Operator\n",
    "The not operator reverses a condition. If the condition is False, it becomes True. If it is True, it becomes False."
   ]
  },
  {
   "cell_type": "code",
   "execution_count": 7,
   "id": "b30d31e3-57ff-4b70-ab94-80f9cd3b83cd",
   "metadata": {},
   "outputs": [
    {
     "name": "stdout",
     "output_type": "stream",
     "text": [
      "False\n",
      "True\n"
     ]
    }
   ],
   "source": [
    "a = 12\n",
    "print(a < 0)  # False\n",
    "print(not (a < 0))  # True"
   ]
  },
  {
   "cell_type": "markdown",
   "id": "ba0987d7-f414-4026-a3f5-97bfd3204f54",
   "metadata": {},
   "source": [
    "Here, a < 0 evaluates to False, but putting not in front of it reverses the condition, so it becomes True. not False is True, and not True is False."
   ]
  },
  {
   "cell_type": "markdown",
   "id": "2450c668-e1a7-44c8-999b-1eccc542c26e",
   "metadata": {},
   "source": [
    "##### Applying Logical Operators: Roller Coaster Ticketing Example\n",
    "Suppose the roller coaster company decides to give free tickets to everyone experiencing a midlife crisis, which typically occurs between ages 45 and 55. Let us see how to incorporate this into our code."
   ]
  },
  {
   "cell_type": "code",
   "execution_count": 8,
   "id": "6a410e7e-651a-4b4c-b050-88edd007a918",
   "metadata": {},
   "outputs": [],
   "source": [
    "if age < 12:\n",
    "    bill = 5\n",
    "elif age <= 18:\n",
    "    bill = 7\n",
    "elif age >= 45 and age <= 55:\n",
    "    print(\"Everything's going to be okay, have a free ride on us.\")\n",
    "else:\n",
    "    bill = 12"
   ]
  },
  {
   "cell_type": "markdown",
   "id": "a3f86539-dc65-4211-bbff-12910619fc8f",
   "metadata": {},
   "source": [
    "In this code, we add another elif to combine two conditions: if age >= 45 and age <= 55, we catch the midlife crisis window. In this case, we print a message and do not modify the bill, since their ticket is free. If they want a photo, they still have to pay 3, but at least their ticket is free. We are able to do this because we know about the and logical operator"
   ]
  },
  {
   "cell_type": "markdown",
   "id": "b4b2065f-c1f0-468c-bca5-974af479f824",
   "metadata": {},
   "source": [
    "##### Key Takeaways\n",
    "- Logical operators allow checking multiple conditions in a single line of code.\n",
    "- The and operator requires both conditions to be True for the statement to be True.\n",
    "- The or operator requires at least one condition to be True for the statement to be True.\n",
    "- The not operator reverses the truth value of a condition."
   ]
  },
  {
   "cell_type": "markdown",
   "id": "c6e66866-67b2-4169-b715-a16639b716cc",
   "metadata": {},
   "source": [
    "#### CONGRATULATIONS\n",
    "If you have made it this far, you are already in the top 50% of the world, as many people quit on day 3. I know that today's session was lengthy, but trust me, without conditional statements, conditional operators, and logical operators are very important topics, as these provide fundamentals\n",
    "so keep hands on practice on this and further in future if you ever want to revise them you can always count on my notes."
   ]
  },
  {
   "cell_type": "code",
   "execution_count": null,
   "id": "c1b8aa20-1633-4ad5-bab3-64d3e4b733c8",
   "metadata": {},
   "outputs": [],
   "source": []
  }
 ],
 "metadata": {
  "kernelspec": {
   "display_name": "Python [conda env:base] *",
   "language": "python",
   "name": "conda-base-py"
  },
  "language_info": {
   "codemirror_mode": {
    "name": "ipython",
    "version": 3
   },
   "file_extension": ".py",
   "mimetype": "text/x-python",
   "name": "python",
   "nbconvert_exporter": "python",
   "pygments_lexer": "ipython3",
   "version": "3.12.7"
  }
 },
 "nbformat": 4,
 "nbformat_minor": 5
}
