{
 "cells": [
  {
   "cell_type": "markdown",
   "id": "3caae7d8-5819-49d4-846a-92d98f4844d5",
   "metadata": {},
   "source": [
    "# PYTHON Day-1"
   ]
  },
  {
   "cell_type": "markdown",
   "id": "5a3838cf-24eb-4f97-99d0-2fcca0053341",
   "metadata": {},
   "source": [
    "### Getting started with Python, below lies a basic code in Python using the print function, which allows users to display outputs."
   ]
  },
  {
   "cell_type": "code",
   "execution_count": null,
   "id": "96cf2650-f08e-448c-8c77-303ac4209ad2",
   "metadata": {},
   "outputs": [],
   "source": [
    "print(\"Hello world\")"
   ]
  },
  {
   "cell_type": "markdown",
   "id": "8b3c2a43-04d1-49f7-826e-567e8efad29c",
   "metadata": {},
   "source": [
    "Note:- Printing a string is done by using \" in the parentheses'()' of the print function\n",
    "Try the code below with \" and without \" using in the parentheses in the print function."
   ]
  },
  {
   "cell_type": "code",
   "execution_count": 2,
   "id": "3c97c6da-328f-42e1-b354-faaae95127ca",
   "metadata": {},
   "outputs": [
    {
     "name": "stdout",
     "output_type": "stream",
     "text": [
      "This is a string!\n"
     ]
    }
   ],
   "source": [
    "print(\"This is a string!\")"
   ]
  },
  {
   "cell_type": "markdown",
   "id": "6bdc3ae2-1d20-4d5e-b1b0-859060bd9f1e",
   "metadata": {},
   "source": [
    "#### 1) Printing in Python:-\n",
    "We can print any string with a print function, but what if we want to print more than one line, or \n",
    "what if we're going to print an entire paragraph? Do we have to write print for each sentence or each line \n",
    "Let's see different ways in which we can print multi-lines or large paragraphs with single print functions."
   ]
  },
  {
   "cell_type": "markdown",
   "id": "6d539690-719a-4df7-bc69-3f21a217922a",
   "metadata": {},
   "source": [
    "##### By using ''' inside print function"
   ]
  },
  {
   "cell_type": "code",
   "execution_count": 3,
   "id": "15840f7e-94f3-4f66-9742-87fd41e60169",
   "metadata": {},
   "outputs": [
    {
     "name": "stdout",
     "output_type": "stream",
     "text": [
      "\n",
      "So this is a \n",
      "Multiple line code\n",
      "which is printed by\n",
      "a single print function\n"
     ]
    }
   ],
   "source": [
    "print('''\n",
    "So this is a \n",
    "Multiple line code\n",
    "which is printed by\n",
    "a single print function''')"
   ]
  },
  {
   "cell_type": "markdown",
   "id": "ccb484a3-6352-4988-8a70-fd3b5bbf8e09",
   "metadata": {},
   "source": [
    "##### Or else we can use \\n method "
   ]
  },
  {
   "cell_type": "markdown",
   "id": "9b4c3ca6-3298-408e-8d67-a7413eb224b8",
   "metadata": {},
   "source": [
    "This Method prints everything written after on the next line"
   ]
  },
  {
   "cell_type": "code",
   "execution_count": 7,
   "id": "0dfbe8c7-55ef-4012-8595-1bb7443bac5b",
   "metadata": {},
   "outputs": [
    {
     "name": "stdout",
     "output_type": "stream",
     "text": [
      "Hello World\n",
      " Hello World\n",
      " Hello World\n"
     ]
    }
   ],
   "source": [
    "print(\"Hello World\\n Hello World\\n Hello World\")"
   ]
  },
  {
   "cell_type": "markdown",
   "id": "879f722d-6974-4a7c-ba92-ce8db9c3ab80",
   "metadata": {},
   "source": [
    "#### 2) String Manipulation\n",
    "A String is a Datatype in Python, which is declared using \"\". Anything inside this is a String \n",
    "For ex,- \"Aditya\" is a String and \"32\" can also be a String\n",
    "It is used to store and manipulate Text Data"
   ]
  },
  {
   "cell_type": "markdown",
   "id": "5dca83b1-9a64-4963-867c-da0bf8c3d805",
   "metadata": {},
   "source": [
    "##### String Concatenation \n",
    "By concatenation, we mean by combination or joining of 2 Strings\n",
    "lets look it via code given below.\n"
   ]
  },
  {
   "cell_type": "code",
   "execution_count": 8,
   "id": "d1dcb238-7ed8-4fe3-94d5-ddb2e0815805",
   "metadata": {},
   "outputs": [
    {
     "name": "stdout",
     "output_type": "stream",
     "text": [
      "AdityaPatil\n"
     ]
    }
   ],
   "source": [
    "print(\"Aditya\" + \"Patil\")"
   ]
  },
  {
   "cell_type": "markdown",
   "id": "63fc4122-7b7b-48e3-ab8f-f10afabca77e",
   "metadata": {},
   "source": [
    "Note:- for concatenation, we need two separate strings \n",
    "the common mistake here could be print(\"Aditya + Patil\")\n",
    "This will make it an entire string, which will not lead to a combination of two strings \n",
    "check it out yourself"
   ]
  },
  {
   "cell_type": "code",
   "execution_count": 9,
   "id": "2f6e63d4-1972-451e-a55b-c2913f8da24c",
   "metadata": {},
   "outputs": [
    {
     "name": "stdout",
     "output_type": "stream",
     "text": [
      "Aditya + Patil\n"
     ]
    }
   ],
   "source": [
    "print(\"Aditya + Patil\")"
   ]
  },
  {
   "cell_type": "markdown",
   "id": "08c324d9-c140-431e-b351-234e97f45895",
   "metadata": {},
   "source": [
    "Note:- Python is an indentation-sensitive language, so you have to ensure your code does not lack proper indentation."
   ]
  },
  {
   "cell_type": "markdown",
   "id": "124f0458-5181-4f40-aa5d-6a18c62da2ef",
   "metadata": {},
   "source": [
    "#### 3) Inputs in Python"
   ]
  },
  {
   "cell_type": "markdown",
   "id": "09617487-83e3-458b-b175-a6a9a0b8eaf1",
   "metadata": {},
   "source": [
    "##### Input Function \n",
    "To get input from the user, we use the input function in Python\n",
    "it takes the data in form of string but we also can convert it into other datatypes"
   ]
  },
  {
   "cell_type": "markdown",
   "id": "4209d48b-5b35-449a-90c2-8f4f6355b89b",
   "metadata": {},
   "source": [
    "For example, I want to give the system input for the question What is my name \n",
    "lets see below "
   ]
  },
  {
   "cell_type": "code",
   "execution_count": 10,
   "id": "d3ed243c-9c9d-44d7-a46c-7aa4544f6554",
   "metadata": {},
   "outputs": [
    {
     "name": "stdout",
     "output_type": "stream",
     "text": [
      "What is your name\n"
     ]
    }
   ],
   "source": [
    "print(\"What is your name\")"
   ]
  },
  {
   "cell_type": "markdown",
   "id": "b67b3231-1f2a-4a5a-979a-ecaef677a9fb",
   "metadata": {},
   "source": [
    "Here we cannot reply to the system and tell it what our name is hence we use the input function to give it the data"
   ]
  },
  {
   "cell_type": "code",
   "execution_count": 11,
   "id": "88c3855b-c64b-4713-99b0-65f0646924de",
   "metadata": {},
   "outputs": [
    {
     "name": "stdin",
     "output_type": "stream",
     "text": [
      "What is your name ? Aditya\n"
     ]
    },
    {
     "data": {
      "text/plain": [
       "'Aditya'"
      ]
     },
     "execution_count": 11,
     "metadata": {},
     "output_type": "execute_result"
    }
   ],
   "source": [
    "input(\"What is your name ?\")"
   ]
  },
  {
   "cell_type": "markdown",
   "id": "edf0c0f0-1335-4c70-9e36-7e6e6ed82c68",
   "metadata": {},
   "source": [
    "As you saw, we can give it input now, but we cannot see the input on the display, because Python stores the data inside the\n",
    "function or we declare specific variables for that which we will see ahead \n",
    "to see the given input we have to use print along the input function"
   ]
  },
  {
   "cell_type": "code",
   "execution_count": 13,
   "id": "990f6dc4-2184-4323-a3c5-476b425fe8ce",
   "metadata": {},
   "outputs": [
    {
     "name": "stdin",
     "output_type": "stream",
     "text": [
      "What is your name Aditya\n"
     ]
    },
    {
     "name": "stdout",
     "output_type": "stream",
     "text": [
      "Hello Aditya\n"
     ]
    }
   ],
   "source": [
    "print(\"Hello\" + \" \" + input(\"What is your name\"))"
   ]
  },
  {
   "cell_type": "markdown",
   "id": "aa0389d5-5673-47da-b204-0c283ee489a1",
   "metadata": {},
   "source": [
    "As you saw, my input name is added and displayed\n",
    "You must be wondering how it is combined like a string\n",
    "so yeah the data being taken as input in the input function is by default string datatype."
   ]
  },
  {
   "cell_type": "markdown",
   "id": "f0100063-2486-4c16-93b8-8f2776f5e337",
   "metadata": {},
   "source": [
    "#### 4) Variables"
   ]
  },
  {
   "cell_type": "markdown",
   "id": "919d3d3f-6d3e-4655-ad4b-b2378e396a10",
   "metadata": {},
   "source": [
    "Learn to store values in containers for later use. Variables are a concept in programming that allows us to name/label\n",
    "a piece of data so that we can refer or reference that data using the choosen variable name \n"
   ]
  },
  {
   "cell_type": "markdown",
   "id": "fc820714-de09-4eae-b2a2-c1dc4ad6189e",
   "metadata": {},
   "source": [
    "So you have wondered where the data goes for the input function after giving it the data input. It is temporarily\n",
    "stays there, but we cannot refer to it in the future; that's why we use variables \n",
    "lets see one by using it below"
   ]
  },
  {
   "cell_type": "code",
   "execution_count": 14,
   "id": "ce2ab950-b039-4f23-a0ed-934fa3256fad",
   "metadata": {},
   "outputs": [
    {
     "name": "stdin",
     "output_type": "stream",
     "text": [
      "What is your name Aditya\n"
     ]
    },
    {
     "name": "stdout",
     "output_type": "stream",
     "text": [
      "Aditya\n"
     ]
    }
   ],
   "source": [
    "name = input(\"What is your name\")\n",
    "print(name)"
   ]
  },
  {
   "cell_type": "markdown",
   "id": "b303e84e-26c2-49c8-9c36-f6c5ed92f064",
   "metadata": {},
   "source": [
    "In this case, we stored our data inside the name variable via the input function \n",
    "You can name your variable anything, but there are certain rules for that\n",
    "You have noticed I did not use \" for printing variable, as it is not a string and it already contains data.\n",
    "\n"
   ]
  },
  {
   "cell_type": "markdown",
   "id": "50628375-04f5-4059-9742-869d4b389902",
   "metadata": {},
   "source": [
    "we can also directly declare variables without using input function \n"
   ]
  },
  {
   "cell_type": "code",
   "execution_count": 15,
   "id": "a0c4f90d-ad20-4410-8915-0c579253dd1a",
   "metadata": {},
   "outputs": [
    {
     "name": "stdout",
     "output_type": "stream",
     "text": [
      "Aditya\n"
     ]
    }
   ],
   "source": [
    "name = \"Aditya\"\n",
    "print(name)"
   ]
  },
  {
   "cell_type": "markdown",
   "id": "15425b4c-e02f-4a9b-974a-96ca09d4a553",
   "metadata": {},
   "source": [
    "##### Variable naming rules\n",
    "1) Start with a letter or underscore:\n",
    "Variable names must begin with an alphabet (a-z, A-Z) or an underscore (_). They cannot start with a number.\n",
    "2) Case-sensitive:\n",
    "Python variable names are case-sensitive. myVar, myvar, and MYVAR are considered three different variables.\n",
    "3) No keywords:\n",
    "You cannot use Python's reserved keywords (like if, else, for, while, def, class, etc.) as variable names.\n",
    "4) Snake Case:\n",
    "For multi-word variable names, use lowercase letters and separate words with underscores (e.g., total_amount, user_id). This is the widely accepted convention in Python."
   ]
  },
  {
   "cell_type": "code",
   "execution_count": null,
   "id": "f0ee76a9-d045-493e-8af5-1b82ecbb4a6a",
   "metadata": {},
   "outputs": [],
   "source": []
  }
 ],
 "metadata": {
  "kernelspec": {
   "display_name": "Python [conda env:base] *",
   "language": "python",
   "name": "conda-base-py"
  },
  "language_info": {
   "codemirror_mode": {
    "name": "ipython",
    "version": 3
   },
   "file_extension": ".py",
   "mimetype": "text/x-python",
   "name": "python",
   "nbconvert_exporter": "python",
   "pygments_lexer": "ipython3",
   "version": "3.12.7"
  }
 },
 "nbformat": 4,
 "nbformat_minor": 5
}
