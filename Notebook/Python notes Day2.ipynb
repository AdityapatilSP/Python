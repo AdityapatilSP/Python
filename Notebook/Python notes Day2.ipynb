{
 "cells": [
  {
   "cell_type": "markdown",
   "id": "217141e7-fba0-4a4b-8305-92036cede2f0",
   "metadata": {},
   "source": [
    "# Python Day-2"
   ]
  },
  {
   "cell_type": "markdown",
   "id": "4084be98-4c94-47d0-98ce-83ae4b3c719e",
   "metadata": {},
   "source": [
    "In today's session we will learn \n",
    "about primitive datatypes in python , types of errors , Mathematical operations, Number manipulation and f strings\n"
   ]
  },
  {
   "cell_type": "markdown",
   "id": "710f3d66-2cca-4fff-8ebf-c04738d7b572",
   "metadata": {},
   "source": [
    "#### Datatypes in Python"
   ]
  },
  {
   "cell_type": "markdown",
   "id": "3c5f831b-592b-4186-862a-6f047202666e",
   "metadata": {},
   "source": [
    "##### 1) Strings"
   ]
  },
  {
   "cell_type": "markdown",
   "id": "d7b99f77-26d7-4f30-9924-152a64d630f4",
   "metadata": {},
   "source": [
    "as we saw yesterday string is a text data used in python which we can refer to\n",
    "today we will see various operations on datatypes starting with string \n",
    "there is a fundamental concept of indexing in programing language \n",
    "for example every piece of data is stored with indices which helps the computer or system to recall particular data \n",
    "we will see examples of indexing on string below\n"
   ]
  },
  {
   "cell_type": "code",
   "execution_count": 4,
   "id": "1b0b4a31-9e27-4553-8afa-262dda579cc6",
   "metadata": {},
   "outputs": [
    {
     "name": "stdout",
     "output_type": "stream",
     "text": [
      "H\n"
     ]
    }
   ],
   "source": [
    "print(\"Hello\"[0])"
   ]
  },
  {
   "cell_type": "markdown",
   "id": "c3e00a0e-3bda-459d-b73e-776449cf8a16",
   "metadata": {},
   "source": [
    "indexing starts from 0 to n length of data we need to specify index in [] brackets \n",
    "This helps the computer to fetch and refer data faster "
   ]
  },
  {
   "cell_type": "markdown",
   "id": "91bbea0c-d2ee-499b-ba36-15bef0b9bc35",
   "metadata": {},
   "source": [
    "notice if we do not count the index from 0 then what happens\n",
    "see for yourself"
   ]
  },
  {
   "cell_type": "code",
   "execution_count": 3,
   "id": "4bb8e847-ed86-4b7e-9376-ba31a20057a4",
   "metadata": {},
   "outputs": [
    {
     "name": "stdout",
     "output_type": "stream",
     "text": [
      "e\n"
     ]
    }
   ],
   "source": [
    "print(\"Hello\"[1])"
   ]
  },
  {
   "cell_type": "markdown",
   "id": "72cdb98a-531c-42d0-bd98-22dcfcc07564",
   "metadata": {},
   "source": [
    "but what if we use negative indices? would it work like the same as the positive ones \n",
    "lets see using one below"
   ]
  },
  {
   "cell_type": "code",
   "execution_count": 5,
   "id": "33d6acc3-e366-4086-873c-32c2d3f7e813",
   "metadata": {},
   "outputs": [
    {
     "name": "stdout",
     "output_type": "stream",
     "text": [
      "o\n"
     ]
    }
   ],
   "source": [
    "print(\"Hello\"[-1])"
   ]
  },
  {
   "cell_type": "markdown",
   "id": "d17a75a0-8bd1-4db8-9598-6b7e6482e111",
   "metadata": {},
   "source": [
    "As you saw it gave us the last value from the data \n",
    "therefore the negative indices indicates the data from the last\n",
    "which begins with -1 to -n length of data"
   ]
  },
  {
   "cell_type": "markdown",
   "id": "854aae70-5418-4b57-b700-f41ff8282b16",
   "metadata": {},
   "source": [
    "#### 2) Integers"
   ]
  },
  {
   "cell_type": "markdown",
   "id": "cceb458c-6407-463b-a93f-9e304e9529c7",
   "metadata": {},
   "source": [
    "Intergers are another datatype used in python to use the numbers for various operations\n",
    "In Python, the int data type represents integers, which are whole numbers without any fractional or decimal components. This includes positive numbers, negative numbers, and zero"
   ]
  },
  {
   "cell_type": "markdown",
   "id": "d82bd8de-5ce5-45d1-8082-305b5b41b98d",
   "metadata": {},
   "source": [
    "if i want to add 2 numbers via print statement will it be executed easily or is there a catch\n",
    "lets see below with an example\n"
   ]
  },
  {
   "cell_type": "code",
   "execution_count": 6,
   "id": "90dbdccf-2f21-4c77-a7a6-851296ee7c81",
   "metadata": {},
   "outputs": [
    {
     "name": "stdout",
     "output_type": "stream",
     "text": [
      "123345\n"
     ]
    }
   ],
   "source": [
    "print(\"123\" + \"345\")"
   ]
  },
  {
   "cell_type": "markdown",
   "id": "bf4a8496-6f6c-40ea-8e9b-ff316976a7db",
   "metadata": {},
   "source": [
    "As expected this became string concatenation even though we used whole numbers inside the print block\n",
    "so what do you think would give use the mathematical answer for the question\n",
    "let me show you how its done using integers"
   ]
  },
  {
   "cell_type": "code",
   "execution_count": 7,
   "id": "c92f9322-7309-412f-9d16-9b3df1a0f1b6",
   "metadata": {},
   "outputs": [
    {
     "name": "stdout",
     "output_type": "stream",
     "text": [
      "468\n"
     ]
    }
   ],
   "source": [
    "print(123 + 345)"
   ]
  },
  {
   "cell_type": "markdown",
   "id": "a294177c-a6de-4aac-8077-5f0df4ee832e",
   "metadata": {},
   "source": [
    "In this case we did not use \" inside the print block which did not make it a string \n",
    "also, python is a high level language it understands the datatype mentioned as integer\n",
    "so no need to declare the value or variable having integer value we can directly use them"
   ]
  },
  {
   "cell_type": "markdown",
   "id": "b91d0729-9fd1-4f99-8442-c319eb83cdc4",
   "metadata": {},
   "source": [
    "##### Note :- If we are dealing with large integer numbers we use commas (,) in real life for better understanding but we cannot use comma in python hence we use underscore (_) to specify integer size "
   ]
  },
  {
   "cell_type": "code",
   "execution_count": 8,
   "id": "94023cf6-9a36-4206-801e-3304174f5826",
   "metadata": {},
   "outputs": [
    {
     "name": "stdout",
     "output_type": "stream",
     "text": [
      "123345567\n"
     ]
    }
   ],
   "source": [
    "print(123_345_567)"
   ]
  },
  {
   "cell_type": "markdown",
   "id": "3f0afef9-5897-4c31-bb45-8b35d005b43a",
   "metadata": {},
   "source": [
    "#### 3) FLoat"
   ]
  },
  {
   "cell_type": "markdown",
   "id": "668d816a-ceea-4afa-9bcb-1874c833f1bb",
   "metadata": {},
   "source": [
    "In Python, the float data type represents floating-point numbers, which are real numbers with a fractional component. This means they include a decimal point, distinguishing them from integers. "
   ]
  },
  {
   "cell_type": "code",
   "execution_count": 9,
   "id": "0124429b-8e35-43f6-bb0f-6988d089711d",
   "metadata": {},
   "outputs": [
    {
     "name": "stdout",
     "output_type": "stream",
     "text": [
      "3.12321\n"
     ]
    }
   ],
   "source": [
    "print(3.12321)"
   ]
  },
  {
   "cell_type": "markdown",
   "id": "27716ebe-40b5-4785-91b7-7d8b14e1bd38",
   "metadata": {},
   "source": [
    "float and integer can be exactly treated as same the difference is decimal points"
   ]
  },
  {
   "cell_type": "markdown",
   "id": "5f3736c5-0ebb-48ed-bf4b-3b39b8931cc6",
   "metadata": {},
   "source": [
    "#### 4) Boolean"
   ]
  },
  {
   "cell_type": "markdown",
   "id": "50129942-b161-41ab-aa76-4edbe6b536d8",
   "metadata": {},
   "source": [
    "In Python, the boolean data type, represented by the class bool, is a fundamental data type that can hold one of two possible values: True or False. These values are used to represent the truthfulness or falsehood of an expression or condition. "
   ]
  },
  {
   "cell_type": "code",
   "execution_count": 10,
   "id": "8d7b0371-ae1f-4990-9bb5-37bb3b8aa31d",
   "metadata": {},
   "outputs": [
    {
     "name": "stdout",
     "output_type": "stream",
     "text": [
      "True\n"
     ]
    }
   ],
   "source": [
    "print(True)"
   ]
  },
  {
   "cell_type": "code",
   "execution_count": 11,
   "id": "9f496901-4de0-41d7-ac96-e25fe1e064b8",
   "metadata": {},
   "outputs": [
    {
     "name": "stdout",
     "output_type": "stream",
     "text": [
      "False\n"
     ]
    }
   ],
   "source": [
    "print(False)"
   ]
  },
  {
   "cell_type": "markdown",
   "id": "141fd754-ffee-419e-960a-26153af46176",
   "metadata": {},
   "source": [
    "#### Type Error, Type Checking and Type Conversion"
   ]
  },
  {
   "cell_type": "markdown",
   "id": "5a079841-8376-4c27-8623-34d3f275ea89",
   "metadata": {},
   "source": [
    "A TypeError in Python is a built-in exception that occurs when an operation or function is applied to an object of an inappropriate or unsupported type. This means that the data types involved in an operation are not compatible with each other, or a function expects a specific data type but receives a different one. "
   ]
  },
  {
   "cell_type": "markdown",
   "id": "3b36d5b1-7e3d-4ca1-b3e8-9cc050000907",
   "metadata": {},
   "source": [
    "for example lets use len() function on a integer to see if it can give us the length of a integer"
   ]
  },
  {
   "cell_type": "code",
   "execution_count": 12,
   "id": "197e44b1-58bd-4920-af88-f3d81c6ff50a",
   "metadata": {},
   "outputs": [
    {
     "ename": "TypeError",
     "evalue": "object of type 'int' has no len()",
     "output_type": "error",
     "traceback": [
      "\u001b[1;31m---------------------------------------------------------------------------\u001b[0m",
      "\u001b[1;31mTypeError\u001b[0m                                 Traceback (most recent call last)",
      "Cell \u001b[1;32mIn[12], line 1\u001b[0m\n\u001b[1;32m----> 1\u001b[0m \u001b[38;5;28mprint\u001b[39m(\u001b[38;5;28mlen\u001b[39m(\u001b[38;5;241m12334566\u001b[39m))\n",
      "\u001b[1;31mTypeError\u001b[0m: object of type 'int' has no len()"
     ]
    }
   ],
   "source": [
    "print(len(12334566))"
   ]
  },
  {
   "cell_type": "markdown",
   "id": "2d657935-e585-450c-a423-74008eb8b69a",
   "metadata": {},
   "source": [
    "As you saw this gave us a TypeError indicating that object of type 'int' has no len()\n",
    "that means len() does not work on type integer "
   ]
  },
  {
   "cell_type": "markdown",
   "id": "f74cf1e2-869b-487a-9a18-0fff66300369",
   "metadata": {},
   "source": [
    "how can we fix this error and make the code run \n",
    "to make sure len() does not give us error we need to convert the datatype suitable for the function\n",
    "how about string lets give it a try below"
   ]
  },
  {
   "cell_type": "code",
   "execution_count": 13,
   "id": "9049e875-025e-42fe-8715-3a2802f75b97",
   "metadata": {},
   "outputs": [
    {
     "name": "stdout",
     "output_type": "stream",
     "text": [
      "9\n"
     ]
    }
   ],
   "source": [
    "print(len(\"123456789\"))"
   ]
  },
  {
   "cell_type": "markdown",
   "id": "48be7b96-90a9-4ae4-b305-a7b4388cdd3c",
   "metadata": {},
   "source": [
    "But lets say how will we know what is the type of a particular data i mean its visibily easy to tell a string as it has \"\" but \n",
    "what about other datatypes \n",
    "lets see how we will check datatypes"
   ]
  },
  {
   "cell_type": "code",
   "execution_count": 17,
   "id": "d1757fcf-a55e-429b-9fab-c68706cd55b9",
   "metadata": {},
   "outputs": [
    {
     "data": {
      "text/plain": [
       "str"
      ]
     },
     "execution_count": 17,
     "metadata": {},
     "output_type": "execute_result"
    }
   ],
   "source": [
    "type(\"Hello\")"
   ]
  },
  {
   "cell_type": "code",
   "execution_count": 18,
   "id": "505573a8-d653-4cfc-90d5-6a014a78fb23",
   "metadata": {},
   "outputs": [
    {
     "data": {
      "text/plain": [
       "int"
      ]
     },
     "execution_count": 18,
     "metadata": {},
     "output_type": "execute_result"
    }
   ],
   "source": [
    "type(123)"
   ]
  },
  {
   "cell_type": "code",
   "execution_count": 19,
   "id": "d5075357-9331-43f0-b71b-3a83bf6f8810",
   "metadata": {},
   "outputs": [
    {
     "data": {
      "text/plain": [
       "float"
      ]
     },
     "execution_count": 19,
     "metadata": {},
     "output_type": "execute_result"
    }
   ],
   "source": [
    "type(123.123)"
   ]
  },
  {
   "cell_type": "code",
   "execution_count": 20,
   "id": "f7650c79-679b-4021-ae33-adb524d4dac1",
   "metadata": {},
   "outputs": [
    {
     "data": {
      "text/plain": [
       "bool"
      ]
     },
     "execution_count": 20,
     "metadata": {},
     "output_type": "execute_result"
    }
   ],
   "source": [
    "type(True)"
   ]
  },
  {
   "cell_type": "markdown",
   "id": "53217504-5eef-4ff0-8477-d6a3ce80090c",
   "metadata": {},
   "source": [
    "As you saw it exactly tells us the datatype of each data this is called Type Checking"
   ]
  },
  {
   "cell_type": "markdown",
   "id": "66b8eb00-eff4-463f-a971-3764089d372e",
   "metadata": {},
   "source": [
    "Now what if we aren't happy with the assigned datatype \n",
    "What if we want to convert a piece of data into different data type\n",
    "Well then we need to learn about something called Type Conversion ,aslo known as type casting "
   ]
  },
  {
   "cell_type": "markdown",
   "id": "f46c86cc-32ba-4970-a67a-02a57f7117b2",
   "metadata": {},
   "source": [
    "Lets see a basic type conversion \n",
    "we will convert string to integer"
   ]
  },
  {
   "cell_type": "code",
   "execution_count": 21,
   "id": "93f64743-a493-456b-8e65-35af2e749866",
   "metadata": {},
   "outputs": [
    {
     "name": "stdout",
     "output_type": "stream",
     "text": [
      "579\n"
     ]
    }
   ],
   "source": [
    "print(int(\"123\") + int(\"456\"))"
   ]
  },
  {
   "cell_type": "markdown",
   "id": "e0f71151-1443-425c-9e92-8b430d8557fe",
   "metadata": {},
   "source": [
    "As you saw even with \"\" the strings did not combine or concatenate but, rather it became integer addition \n",
    "hence the datatype string was converted to integer"
   ]
  },
  {
   "cell_type": "markdown",
   "id": "a9455fe1-63eb-487f-9fcb-5b181ddc7b52",
   "metadata": {},
   "source": [
    "but we cannot converting any type of data to anything we can only convert specific type of data from type to another \n",
    "lets see via example from below"
   ]
  },
  {
   "cell_type": "code",
   "execution_count": 22,
   "id": "582dd00a-a11f-4eba-840b-aa9261cd5918",
   "metadata": {},
   "outputs": [
    {
     "ename": "ValueError",
     "evalue": "invalid literal for int() with base 10: 'abc'",
     "output_type": "error",
     "traceback": [
      "\u001b[1;31m---------------------------------------------------------------------------\u001b[0m",
      "\u001b[1;31mValueError\u001b[0m                                Traceback (most recent call last)",
      "Cell \u001b[1;32mIn[22], line 1\u001b[0m\n\u001b[1;32m----> 1\u001b[0m \u001b[38;5;28mprint\u001b[39m(\u001b[38;5;28mint\u001b[39m(\u001b[38;5;124m\"\u001b[39m\u001b[38;5;124mabc\u001b[39m\u001b[38;5;124m\"\u001b[39m) \u001b[38;5;241m+\u001b[39m (\u001b[38;5;124m\"\u001b[39m\u001b[38;5;124m123\u001b[39m\u001b[38;5;124m\"\u001b[39m))\n",
      "\u001b[1;31mValueError\u001b[0m: invalid literal for int() with base 10: 'abc'"
     ]
    }
   ],
   "source": [
    "print(int(\"abc\") + (\"123\"))"
   ]
  },
  {
   "cell_type": "markdown",
   "id": "bc869116-2c14-47ca-b321-240ee07966e0",
   "metadata": {},
   "source": [
    "As you saw we cannot convert \"abc\" to integer because they do not exist in the integer datatype \n",
    "hence only valid data from other datatype can be converted"
   ]
  },
  {
   "cell_type": "markdown",
   "id": "4ed92664-89e0-4577-8b0f-995b98e02aa9",
   "metadata": {},
   "source": [
    "#### Mathematical Operations in Python"
   ]
  },
  {
   "cell_type": "markdown",
   "id": "3ec4d6cb-36f4-44e2-a6ac-06615918ea73",
   "metadata": {},
   "source": [
    "There are various types of mathematical operations in python \n",
    "lets see all of them with an example for each given below"
   ]
  },
  {
   "cell_type": "markdown",
   "id": "bf326a5b-4f90-4332-9b47-70161976f41f",
   "metadata": {},
   "source": [
    "##### 1) Addition"
   ]
  },
  {
   "cell_type": "code",
   "execution_count": 28,
   "id": "623f2163-4e67-460a-9ba3-6aafc764c229",
   "metadata": {},
   "outputs": [
    {
     "name": "stdout",
     "output_type": "stream",
     "text": [
      "30\n"
     ]
    }
   ],
   "source": [
    "A = 10\n",
    "B = 20 \n",
    "C = A + B\n",
    "print(C)"
   ]
  },
  {
   "cell_type": "markdown",
   "id": "60e6cc15-582e-41c3-b5cd-3cd22a993e34",
   "metadata": {},
   "source": [
    "##### 2) Subtraction"
   ]
  },
  {
   "cell_type": "code",
   "execution_count": 29,
   "id": "4eefdc11-0413-4b66-9aeb-c9b017700c0e",
   "metadata": {},
   "outputs": [
    {
     "name": "stdout",
     "output_type": "stream",
     "text": [
      "10\n"
     ]
    }
   ],
   "source": [
    "A = 20\n",
    "B = 10\n",
    "C = A - B\n",
    "print(C)"
   ]
  },
  {
   "cell_type": "markdown",
   "id": "6e5f6192-22de-406c-995f-eda40e395809",
   "metadata": {},
   "source": [
    "##### 3) Multiplication"
   ]
  },
  {
   "cell_type": "code",
   "execution_count": 31,
   "id": "ab531f7f-49e1-474b-8f8f-dc6d46b5ec67",
   "metadata": {},
   "outputs": [
    {
     "name": "stdout",
     "output_type": "stream",
     "text": [
      "8\n"
     ]
    }
   ],
   "source": [
    "A = 2\n",
    "B = 4\n",
    "C = A * B\n",
    "print(C)"
   ]
  },
  {
   "cell_type": "markdown",
   "id": "b26c0fd8-d604-4fd7-a3f5-8defc0bc8687",
   "metadata": {},
   "source": [
    "##### 4) Division"
   ]
  },
  {
   "cell_type": "code",
   "execution_count": 32,
   "id": "3419f02a-a9d4-4d64-95db-e3de572c3ae1",
   "metadata": {},
   "outputs": [
    {
     "name": "stdout",
     "output_type": "stream",
     "text": [
      "2.0\n"
     ]
    }
   ],
   "source": [
    "A = 4\n",
    "B = 2\n",
    "C = A / 2\n",
    "print(C)"
   ]
  },
  {
   "cell_type": "markdown",
   "id": "ff7d7c1f-b10d-4e9d-a996-caf49a65dc2f",
   "metadata": {},
   "source": [
    "##### 5) Floor Division\n",
    "Rounds off the float to nearest integer\n"
   ]
  },
  {
   "cell_type": "code",
   "execution_count": 33,
   "id": "adf3453c-1776-4dc7-b2e5-ec86b437c32d",
   "metadata": {},
   "outputs": [
    {
     "name": "stdout",
     "output_type": "stream",
     "text": [
      "3\n"
     ]
    }
   ],
   "source": [
    "A = 7\n",
    "B = 2\n",
    "C = A//B\n",
    "print(C)"
   ]
  },
  {
   "cell_type": "markdown",
   "id": "917962ed-0235-4e25-b610-d70fa4eb4ca5",
   "metadata": {},
   "source": [
    "##### 6) Square "
   ]
  },
  {
   "cell_type": "code",
   "execution_count": 34,
   "id": "4482bfb1-b362-4851-897f-68ebc64bbc01",
   "metadata": {},
   "outputs": [
    {
     "name": "stdout",
     "output_type": "stream",
     "text": [
      "16\n"
     ]
    }
   ],
   "source": [
    "A = 4\n",
    "B = 2\n",
    "C = A**B\n",
    "print(C)"
   ]
  },
  {
   "cell_type": "markdown",
   "id": "b3fbae2c-b2a0-40c7-93a3-6881c8438663",
   "metadata": {},
   "source": [
    "##### PEMDAS Rule:-\n",
    "In Python the Mathematical operations follow PEMDAS rule unlike BODMAS in real life Maths\n",
    "P - Parentheses\n",
    "E - Exponent\n",
    "M - Multiplication\n",
    "D - Division\n",
    "A - Addition\n",
    "S - Subtraction"
   ]
  },
  {
   "cell_type": "markdown",
   "id": "206499b5-23f2-4892-b441-e4277d0c7e8c",
   "metadata": {},
   "source": [
    "ever wondered if we get the output in float and havent use any floor division and conversion how would we get nearest integer\n",
    "lets see using a function given by python in below example"
   ]
  },
  {
   "cell_type": "code",
   "execution_count": 40,
   "id": "d83c4682-7cc6-4779-9817-35c648ed7d83",
   "metadata": {},
   "outputs": [
    {
     "name": "stdout",
     "output_type": "stream",
     "text": [
      "32\n"
     ]
    }
   ],
   "source": [
    "bmi = 90/1.68 ** 2\n",
    "print(round(bmi))"
   ]
  },
  {
   "cell_type": "markdown",
   "id": "1dcced6d-4e60-4183-b93d-021e52c5b880",
   "metadata": {},
   "source": [
    "This is known as Number manipulation ,Number manipulation in Python encompasses various operations and techniques for working with numerical data types, including integers, floats, and complex numbers"
   ]
  },
  {
   "cell_type": "code",
   "execution_count": null,
   "id": "22bb4b15-39f7-4aed-a93b-d0eb44a86474",
   "metadata": {},
   "outputs": [],
   "source": []
  }
 ],
 "metadata": {
  "kernelspec": {
   "display_name": "Python 3 (ipykernel)",
   "language": "python",
   "name": "python3"
  },
  "language_info": {
   "codemirror_mode": {
    "name": "ipython",
    "version": 3
   },
   "file_extension": ".py",
   "mimetype": "text/x-python",
   "name": "python",
   "nbconvert_exporter": "python",
   "pygments_lexer": "ipython3",
   "version": "3.13.5"
  }
 },
 "nbformat": 4,
 "nbformat_minor": 5
}
